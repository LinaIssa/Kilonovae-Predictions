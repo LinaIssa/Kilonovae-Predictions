{
 "cells": [
  {
   "cell_type": "markdown",
   "metadata": {},
   "source": [
    "## Variation of the energy deposition with time for different paramaters "
   ]
  },
  {
   "cell_type": "markdown",
   "metadata": {},
   "source": [
    "#### Plot Graphics to visualize the impact of different model paramaters"
   ]
  },
  {
   "cell_type": "code",
   "execution_count": null,
   "metadata": {},
   "outputs": [],
   "source": [
    "from plotUtilities import *\n",
    "from math import *\n",
    "import numpy as np \n",
    "import matplotlib.pyplot as plt\n",
    "from matplotlib import cm\n",
    "import matplotlib\n",
    "from matplotlib.colors import (ListedColormap, BoundaryNorm)\n",
    "from matplotlib.ticker import (MultipleLocator, FormatStrFormatter,AutoMinorLocator)\n"
   ]
  },
  {
   "cell_type": "code",
   "execution_count": null,
   "metadata": {},
   "outputs": [],
   "source": [
    "def thermal_efficiency(t,a,b,d):\n",
    "    eps = 0.36*(exp(-a*t)+ log(1+2*b*t**d)/(2*b*t**d))\n",
    "    return eps"
   ]
  },
  {
   "cell_type": "code",
   "execution_count": null,
   "metadata": {},
   "outputs": [],
   "source": [
    "## Models Parameters\n",
    "a = [0.56, 1.31, 2.19, 0.27, 0.55, 0.95]\n",
    "b = [0.17, 0.21, 0.31, 0.10, 0.13, 0.15]\n",
    "d = [0.74, 1.13, 1.32, 0.60, 0.90, 1.13]\n",
    "\n",
    "M = [0.01, 0.01, 0.01, 0.05, 0.05, 0.05]\n",
    "v = [0.1, 0.2, 0.3, 0.1, 0.2, 0.3]\n"
   ]
  },
  {
   "cell_type": "code",
   "execution_count": null,
   "metadata": {},
   "outputs": [],
   "source": [
    "temps = np.linspace(0.001, 15, 60)\n",
    "datat = [temps]*(len(a))\n",
    "dataY = np.zeros((6, len(temps)), dtype = list)"
   ]
  },
  {
   "cell_type": "code",
   "execution_count": null,
   "metadata": {},
   "outputs": [],
   "source": [
    "for i in range(len(a)):\n",
    "    for p,t in enumerate(temps):\n",
    "        dataY[i][p] = thermal_efficiency(t, a[i], b[i], d[i])\n",
    "labels = []\n",
    "for Mej,vej in zip(M, v):\n",
    "    label = f'for M = {Mej}, v ={vej}'\n",
    "    labels.append(label)"
   ]
  },
  {
   "cell_type": "code",
   "execution_count": null,
   "metadata": {},
   "outputs": [],
   "source": [
    "\n",
    "def selectRGB(cmap,N):\n",
    "    nb = cmap.N//(N-1)\n",
    "    ls =[]\n",
    "    for i in range(0,cmap.N, nb-1):\n",
    "        ls.append(cmap.colors[i])\n",
    "    return ls\n",
    "\n",
    "map = matplotlib.cm.get_cmap('rainbow')\n",
    "values = selectRGB(map, 6)\n",
    "cmap = ListedColormap(values)\n",
    "#norm = BoundaryNorm(np.arange(0,1,0.1),cmap.N)\n"
   ]
  },
  {
   "cell_type": "code",
   "execution_count": null,
   "metadata": {},
   "outputs": [],
   "source": [
    "print(map)"
   ]
  },
  {
   "cell_type": "code",
   "execution_count": null,
   "metadata": {},
   "outputs": [],
   "source": [
    "Ax, Lw = asManyPlots(111, [temps]*len(datat), [dataY[i] for i in range(6)], xlabel = ' time (in days)',\n",
    "                     ylabel = r'$ \\epsilon_{\\rm{thermal}}$',\n",
    "                     plotFlag = [True]*(len(datat)), linestyle =['-']*(len(datat)), \n",
    "                     linewidth = 1, markerSize =[0]*(len(datat)), color = values, tickSize = 7,\n",
    "                     label = labels, showLegend = True, legendTextSize = 10, textsize =14)\n",
    "#plt.xticks(np.arange(0,15,2))\n",
    "plt.yticks(np.arange(0, 1, 0.2))\n",
    "Ax.xaxis.set_minor_locator(MultipleLocator(1))\n",
    "Ax.yaxis.set_minor_locator(MultipleLocator(0.05))\n",
    "plt.savefig('plt_epsilon_thermal.pdf', bbox_inches='tight')"
   ]
  },
  {
   "cell_type": "code",
   "execution_count": null,
   "metadata": {},
   "outputs": [],
   "source": [
    "ax, lw = asManyPlots(111,  [temps]*2, [dataY[5], [0.5]*60], xlabel = ' time (in days)', ylabel = r'$ \\epsilon_{\\rm{thermal}}$', \n",
    "                              plotFlag = [True]*2, linestyle =['-']*2, label = ['corrected thermalisation coefficient', \n",
    "                                                                                'constant coefficient in original POSSIS'],\n",
    "                             linewidth = 2, markerSize =[0]*2, color = ['sandybrown', 'crimson'], tickSize =7, \n",
    "                              showLegend = True, legendTextSize = 10, textsize =14)\n",
    "plt.yticks(np.arange(0, 1, 0.2))\n",
    "ax.xaxis.set_minor_locator(MultipleLocator(1))\n",
    "ax.yaxis.set_minor_locator(MultipleLocator(0.05))\n",
    "plt.savefig('comp_new_old.pdf', bbox_inches='tight')"
   ]
  },
  {
   "cell_type": "code",
   "execution_count": null,
   "metadata": {},
   "outputs": [],
   "source": [
    "print((len(dataY[5])))"
   ]
  },
  {
   "cell_type": "code",
   "execution_count": null,
   "metadata": {},
   "outputs": [],
   "source": []
  }
 ],
 "metadata": {
  "kernelspec": {
   "display_name": "Python 3 (ipykernel)",
   "language": "python",
   "name": "python3"
  },
  "language_info": {
   "codemirror_mode": {
    "name": "ipython",
    "version": 3
   },
   "file_extension": ".py",
   "mimetype": "text/x-python",
   "name": "python",
   "nbconvert_exporter": "python",
   "pygments_lexer": "ipython3",
   "version": "3.7.11"
  }
 },
 "nbformat": 4,
 "nbformat_minor": 4
}
