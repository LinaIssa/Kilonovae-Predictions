{
 "cells": [
  {
   "cell_type": "markdown",
   "metadata": {},
   "source": [
    "# Draw Temp profile for a given R"
   ]
  },
  {
   "cell_type": "code",
   "execution_count": null,
   "metadata": {},
   "outputs": [],
   "source": [
    "Time      = list(Time)\n",
    "density   = 5e-18\n",
    "time_axis = list(np.unique(Time))"
   ]
  },
  {
   "cell_type": "code",
   "execution_count": null,
   "metadata": {},
   "outputs": [],
   "source": [
    "temp_axis = []\n",
    "index     = 0\n",
    "\n",
    "\n",
    "for t in time_axis:\n",
    "    epsilon     = 10**30\n",
    "    while (t == Time[index]) and (index< (len(Time)-1)):\n",
    "        if abs(dens[index]-density)<epsilon:\n",
    "            epsilon = abs(dens[index]-density)\n",
    "            temperature = Temp[index]\n",
    "        index+=1\n",
    "    #print(temperature, index)\n",
    "    temp_axis.append(temperature)\n"
   ]
  },
  {
   "cell_type": "code",
   "execution_count": null,
   "metadata": {},
   "outputs": [],
   "source": [
    "temp_axis.remove(temp_axis[0])\n",
    "time_axis.remove(time_axis[0])"
   ]
  },
  {
   "cell_type": "code",
   "execution_count": null,
   "metadata": {},
   "outputs": [],
   "source": [
    "Temp_para = temperature_code(time_axis)\n",
    "print(max(temp_axis))"
   ]
  },
  {
   "cell_type": "code",
   "execution_count": null,
   "metadata": {},
   "outputs": [],
   "source": [
    "temp_axis"
   ]
  },
  {
   "cell_type": "code",
   "execution_count": null,
   "metadata": {},
   "outputs": [],
   "source": [
    "ax, lw = asManyPlots(111, [time_axis, time_axis], [Temp_para, temp_axis], linestyle = ['-', '-'], plotFlag=[True, True], color =['darkseagreen', 'firebrick', 'steelblue'], \n",
    "                     markerSize = [0, 7], marker=[None, 'x'], linewidth = 2, \n",
    "                     xlabel='Time since merger (in days)', ylabel='Temperature (in K)', textsize = 14, tickSize=12, \n",
    "                     showLegend=True, label= ['Temperature from Kasliwal+ 2017', 'Temperature without black body assumptions'], \n",
    "                     legendTextSize =10)\n",
    "#ax.xaxis.set_minor_locator(MultipleLocator(1))\n",
    "#ax.yaxis_set_minor_locator(MultopleLocator())\n",
    "#plt.savefig('temperature_profile_blue_photons.pdf', bbox_inches='tight')"
   ]
  },
  {
   "cell_type": "markdown",
   "metadata": {},
   "source": [
    "# Draw Temperature Profile for a given time"
   ]
  },
  {
   "cell_type": "code",
   "execution_count": null,
   "metadata": {},
   "outputs": [],
   "source": [
    "2**(1/4) * 6852.07"
   ]
  },
  {
   "cell_type": "code",
   "execution_count": null,
   "metadata": {},
   "outputs": [],
   "source": [
    "dens_axis = []\n",
    "temp_axis = []\n",
    "t = 108000/(24*3600)\n",
    "for i in range(len(Time)):\n",
    "    if Time[i] == t:\n",
    "        dens_axis.append(dens[i])\n",
    "        temp_axis.append(Temp[i])\n",
    "\n"
   ]
  },
  {
   "cell_type": "code",
   "execution_count": null,
   "metadata": {},
   "outputs": [],
   "source": [
    "t"
   ]
  },
  {
   "cell_type": "code",
   "execution_count": null,
   "metadata": {},
   "outputs": [],
   "source": [
    "ax, lw = asManyPlots(111, [temp_axis], [dens_axis], linestyle = ['None'], plotFlag=[True], marker ='+',\n",
    "                     markerSize = [7], linewidth = 2, \n",
    "                     xlabel='Temperature', ylabel='Density', textsize = 14, tickSize=12) \n",
    "                     #showLegend=True, label= ['vphot for the lanthanide rich'])\n",
    "                                              \n",
    "                     \n",
    "#ax.xaxis.set_minor_locator(MultipleLocator(1))\n",
    "#plt.savefig('vphot_blue_photons.pdf', bbox_inches='tight')"
   ]
  },
  {
   "cell_type": "markdown",
   "metadata": {},
   "source": [
    "## New temperature model"
   ]
  },
  {
   "cell_type": "code",
   "execution_count": 3,
   "metadata": {},
   "outputs": [],
   "source": [
    "import numpy as np\n",
    "import matplotlib.pyplot as plt\n",
    "import statistics \n",
    "from plotUtilities import asManyPlots\n",
    "\n",
    "\n",
    "c     = 2.99792458*10**(10)\n",
    "sigma = 5.6704*10**(-5) \n",
    "Day     = 86400\n",
    "\n",
    "filename2 ='temp_profile_test.txt'\n",
    "filename  = 'temp_profile_mej0.05.txt'\n",
    "#filenergy = 'energy_deposition_M0.05_v0.3.txt'\n",
    "t_0 = 1*Day\n",
    "\n",
    "R       = 0.3*c*1*Day\n",
    "nb_cell = 100\n",
    "step    = 2*R/(nb_cell)\n",
    "\n",
    "#rho_0 = 7.21705*10**(-46)  # density scaled at r=r_0\n",
    "#r_0   =  1.33245*10**(15) # radius at 1 day of a certain grid \n",
    "a = 1.707325420302365e+30 \n",
    "#1.33921e-14 5.03294e+14 \n",
    "\n",
    "radius = np.arange(0.5, R, step) \n",
    "time   = np.arange(0.5, 15, 0.5) * Day\n",
    "dens   = np.zeros((len(radius),len(time))) \n",
    "\n",
    "#time_energy    = np.genfromtxt(filenergy, dtype ='float', skip_header=1, usecols=0)\n",
    "#eps_therma     = np.genfromtxt(filenergy, dtype ='float', skip_header =1, usecols=(1))\n",
    "#rate_radiation = np.genfromtxt(filenergy, dtype ='float', skip_header=1, usecols=2)\n",
    "#Nstep_data     = int(np.genfromtxt(filenergy, dtype ='float', skip_header =0, usecols=0, max_rows=1))\n",
    "#delta_time_data= (time_energy[Nstep_data-1] - time_energy[0])/(Nstep_data-1)\n",
    "#Em     = np.unique((np.genfromtxt(filename2, dtype ='float', usecols =(2))))[::-1]\n",
    "\n",
    "Temp_possis = np.genfromtxt(filename, dtype='float', usecols=1) \n",
    "time_possis = np.genfromtxt(filename, dtype='float', usecols=0) \n",
    "#tau_possis  = np.genfromtxt(filename, dtype='float', usecols=3) \n",
    "#radius1 = radius1 * R\n",
    "dens1  = []\n",
    "\n",
    "T0    = 5000\n",
    "alpha = -0.4\n",
    "t0    = 1.5 *Day# in day \n",
    "\n",
    "def temperature_code(Time):\n",
    "    temp =[]\n",
    "    for t in Time: \n",
    "        T = T0*(t/t0)**alpha\n",
    "        temp.append(T)\n",
    "    return temp\n",
    "\n",
    "def temperature(Em, dens):\n",
    "    u = Em * dens \n",
    "    temp = (c*u/(4*sigma))**(0.25)\n",
    "    return temp\n",
    "\n",
    "\n",
    "#def search_index(t):\n",
    "#    index  = 0\n",
    "#    minimum= 1*10**30\n",
    "#    for i in range(Nstep_data):\n",
    "#        if abs(t-time_energy[i])< minimum:\n",
    "#            index = i\n",
    "#            minimum = abs(t-time_energy[i])\n",
    "#    return index \n",
    "\n",
    "#index1 = search_index(0)\n",
    "#index2 = search_index(time[0])\n",
    "\n",
    "Em_0   = 0\n",
    "#for i in range(index1, index2):\n",
    "#    Em_0 += eps_therma[i]*rate_radiation[i] * delta_time_data\n",
    "    \n",
    "#def energy_mass(t, index2):  # for t>0.5\n",
    "#    Em = Em_0\n",
    "#    index = search_index(t)\n",
    "#    for i in range(index2, index):\n",
    "#        Em+= eps_therma[i]*rate_radiation[i] * delta_time_data\n",
    "#    return Em \n",
    "#radius1 = 0.01 * c * time"
   ]
  },
  {
   "cell_type": "code",
   "execution_count": 5,
   "metadata": {},
   "outputs": [],
   "source": [
    "for i in range(len(radius)):\n",
    "    rho_initial = (radius[i])**(-3) * a#rho_0*r_0**3 # at 1 day \n",
    "    #dens[i]     = rho_initial\n",
    "    for t in range(len(time)):\n",
    "        dens[i,t]= rho_initial *(t_0/time[t])**3\n",
    "        \n",
    "#for i in range(len(radius1)):\n",
    "#    rho = (radius1[i])**(-3) * a#rho_0*r_0**3\n",
    "#    dens1.append(rho)"
   ]
  },
  {
   "cell_type": "code",
   "execution_count": 3,
   "metadata": {},
   "outputs": [],
   "source": [
    "Em = []\n",
    "for t in time:\n",
    "    Em.append(energy_mass(t, index2))"
   ]
  },
  {
   "cell_type": "code",
   "execution_count": 7,
   "metadata": {},
   "outputs": [
    {
     "ename": "ValueError",
     "evalue": "operands could not be broadcast together with shapes (30,) (29,) ",
     "output_type": "error",
     "traceback": [
      "\u001b[0;31m---------------------------------------------------------------------------\u001b[0m",
      "\u001b[0;31mValueError\u001b[0m                                Traceback (most recent call last)",
      "\u001b[0;32m<ipython-input-7-fd79faa5d91e>\u001b[0m in \u001b[0;36m<module>\u001b[0;34m\u001b[0m\n\u001b[1;32m      1\u001b[0m \u001b[0mtemp_para\u001b[0m \u001b[0;34m=\u001b[0m \u001b[0mtemperature_code\u001b[0m\u001b[0;34m(\u001b[0m\u001b[0mtime\u001b[0m\u001b[0;34m)\u001b[0m\u001b[0;34m\u001b[0m\u001b[0;34m\u001b[0m\u001b[0m\n\u001b[1;32m      2\u001b[0m \u001b[0;34m\u001b[0m\u001b[0m\n\u001b[0;32m----> 3\u001b[0;31m \u001b[0mTemp1\u001b[0m \u001b[0;34m=\u001b[0m \u001b[0mtemperature\u001b[0m\u001b[0;34m(\u001b[0m\u001b[0mEm\u001b[0m\u001b[0;34m,\u001b[0m \u001b[0mdens\u001b[0m\u001b[0;34m[\u001b[0m\u001b[0;36m1\u001b[0m\u001b[0;34m]\u001b[0m\u001b[0;34m)\u001b[0m\u001b[0;34m\u001b[0m\u001b[0;34m\u001b[0m\u001b[0m\n\u001b[0m\u001b[1;32m      4\u001b[0m \u001b[0mTemp2\u001b[0m \u001b[0;34m=\u001b[0m \u001b[0mtemperature\u001b[0m\u001b[0;34m(\u001b[0m\u001b[0mEm\u001b[0m\u001b[0;34m,\u001b[0m \u001b[0mdens\u001b[0m\u001b[0;34m[\u001b[0m\u001b[0mlen\u001b[0m\u001b[0;34m(\u001b[0m\u001b[0mradius\u001b[0m\u001b[0;34m)\u001b[0m\u001b[0;34m-\u001b[0m\u001b[0;36m1\u001b[0m\u001b[0;34m]\u001b[0m\u001b[0;34m)\u001b[0m\u001b[0;34m\u001b[0m\u001b[0;34m\u001b[0m\u001b[0m\n\u001b[1;32m      5\u001b[0m \u001b[0;34m\u001b[0m\u001b[0m\n",
      "\u001b[0;32m<ipython-input-5-35bd6245d060>\u001b[0m in \u001b[0;36mtemperature\u001b[0;34m(Em, dens)\u001b[0m\n\u001b[1;32m     52\u001b[0m \u001b[0;34m\u001b[0m\u001b[0m\n\u001b[1;32m     53\u001b[0m \u001b[0;32mdef\u001b[0m \u001b[0mtemperature\u001b[0m\u001b[0;34m(\u001b[0m\u001b[0mEm\u001b[0m\u001b[0;34m,\u001b[0m \u001b[0mdens\u001b[0m\u001b[0;34m)\u001b[0m\u001b[0;34m:\u001b[0m\u001b[0;34m\u001b[0m\u001b[0;34m\u001b[0m\u001b[0m\n\u001b[0;32m---> 54\u001b[0;31m     \u001b[0mu\u001b[0m \u001b[0;34m=\u001b[0m \u001b[0mEm\u001b[0m \u001b[0;34m*\u001b[0m \u001b[0mdens\u001b[0m\u001b[0;34m\u001b[0m\u001b[0;34m\u001b[0m\u001b[0m\n\u001b[0m\u001b[1;32m     55\u001b[0m     \u001b[0mtemp\u001b[0m \u001b[0;34m=\u001b[0m \u001b[0;34m(\u001b[0m\u001b[0mc\u001b[0m\u001b[0;34m*\u001b[0m\u001b[0mu\u001b[0m\u001b[0;34m/\u001b[0m\u001b[0;34m(\u001b[0m\u001b[0;36m4\u001b[0m\u001b[0;34m*\u001b[0m\u001b[0msigma\u001b[0m\u001b[0;34m)\u001b[0m\u001b[0;34m)\u001b[0m\u001b[0;34m**\u001b[0m\u001b[0;34m(\u001b[0m\u001b[0;36m0.25\u001b[0m\u001b[0;34m)\u001b[0m\u001b[0;34m\u001b[0m\u001b[0;34m\u001b[0m\u001b[0m\n\u001b[1;32m     56\u001b[0m     \u001b[0;32mreturn\u001b[0m \u001b[0mtemp\u001b[0m\u001b[0;34m\u001b[0m\u001b[0;34m\u001b[0m\u001b[0m\n",
      "\u001b[0;31mValueError\u001b[0m: operands could not be broadcast together with shapes (30,) (29,) "
     ]
    }
   ],
   "source": [
    "temp_para = temperature_code(time)\n",
    "\n",
    "Temp1 = temperature(Em, dens[1])\n",
    "Temp2 = temperature(Em, dens[len(radius)-1])\n",
    "\n",
    "#Temp_01    = temperature(Em, np.array(dens1))\n",
    "#Temp_01_05 = temperature(Em_05, dens1)"
   ]
  },
  {
   "cell_type": "code",
   "execution_count": 6,
   "metadata": {},
   "outputs": [],
   "source": [
    "data = []\n",
    "for t in time:\n",
    "    r_t = []\n",
    "    for i in range(len(time_possis)):\n",
    "        if time_possis[i] == t:\n",
    "            r_t.append(Temp_possis[i])\n",
    "    data.append(r_t)\n",
    "    \n",
    "data_temp = []\n",
    "temp_min  = []\n",
    "temp_max  = []\n",
    "for i in range(len(data)):\n",
    "    mu = statistics.mean(data[i])\n",
    "    data_temp.append(mu)\n",
    "    temp_min.append(min(data[i]))\n",
    "    temp_max.append(max(data[i]))\n",
    "    \n"
   ]
  },
  {
   "cell_type": "code",
   "execution_count": 12,
   "metadata": {},
   "outputs": [],
   "source": [
    "Em = Em[1:]\n"
   ]
  },
  {
   "cell_type": "code",
   "execution_count": 7,
   "metadata": {},
   "outputs": [],
   "source": [
    "temp_para = temperature_code(time)\n",
    "\n"
   ]
  },
  {
   "cell_type": "code",
   "execution_count": 10,
   "metadata": {},
   "outputs": [
    {
     "data": {
      "image/png": "[encoded data removed]",
      "text/plain": [
       "<Figure size 432x288 with 1 Axes>"
      ]
     },
     "metadata": {
      "needs_background": "light"
     },
     "output_type": "display_data"
    }
   ],
   "source": [
    "time = time * Day\n",
    "ax, lw = asManyPlots(111, [time, time, time, time], [temp_para, data_temp, temp_min, temp_max],\n",
    "                     plotFlag=[True,True, True, True, True, True, True], \n",
    "                     color =['crimson', 'bisque', 'lightsteelblue', 'rebeccapurple'], \n",
    "                     markerSize = [0, 0, 0, 0], linewidth = 2, linestyle =['-', '-', '-', '-'],\n",
    "                     xlabel='Time since merger (in days)', ylabel='Temperature (in K)', textsize = 14, tickSize=12, \n",
    "                     #showLegend=True, \n",
    "                     #label= ['Temperature from Kasliwal+ 2017', 'Temperature at the center', 'Temperature at the outer region', 'Temperature from Possis'], \n",
    "                     legendTextSize =10, ylim=[100, 70000])\n",
    "#plt.fill_between(time, Temp1, Temp2, color = 'rosybrown', alpha = 0.3)\n",
    "#plt.savefig('vphot_blue_photons.pdf', bbox_inches='tight')"
   ]
  },
  {
   "cell_type": "code",
   "execution_count": 35,
   "metadata": {},
   "outputs": [
    {
     "data": {
      "text/plain": [
       "1.0000003273783822e+30"
      ]
     },
     "execution_count": 35,
     "metadata": {},
     "output_type": "execute_result"
    }
   ],
   "source": [
    "np.sqrt((7.692914e+14)**2 +(1.010181e+14)**2 +(3.885310e+13)**2)**(3) * 2.132843e-15\n"
   ]
  },
  {
   "cell_type": "code",
   "execution_count": null,
   "metadata": {},
   "outputs": [],
   "source": [
    "#radius1 = np.array([0.052653210468106997,\n",
    " #0.6503761442848744,\n",
    " #0.9977296616585138,\n",
    " 1.2537642861508373,\n",
    " 1.4952919100672488,\n",
    " 1.7244886361812497,\n",
    " 1.8778729694003715,\n",
    " 2.0753331791915803,\n",
    " 2.31303888292363,\n",
    " 2.4916350965457634,\n",
    " 2.6859471138533957,\n",
    " 2.839939022918915,\n",
    " 3.0465631202677756,\n",
    " 3.1851094117430923,\n",
    " 3.40145005005005,\n",
    " 3.568446285560923,\n",
    " 3.7171055927195713,\n",
    " 3.895540956391854,\n",
    " 3.9670875986891034,\n",
    " 4.152723876211834,\n",
    " 4.329862490492877,\n",
    " 4.497301937220261,\n",
    " 4.668320889866466,\n",
    " 4.939772836336722,\n",
    " 5.04583763926023,\n",
    " 5.216365842879891,\n",
    " 5.223290878783144,\n",
    " 5.328940978360243,\n",
    " 5.171895195148428,\n",
    " 5.222195254061449])#0.1*c *time"
   ]
  }
 ],
 "metadata": {
  "kernelspec": {
   "display_name": "Python 3",
   "language": "python",
   "name": "python3"
  },
  "language_info": {
   "codemirror_mode": {
    "name": "ipython",
    "version": 3
   },
   "file_extension": ".py",
   "mimetype": "text/x-python",
   "name": "python",
   "nbconvert_exporter": "python",
   "pygments_lexer": "ipython3",
   "version": "3.7.3"
  }
 },
 "nbformat": 4,
 "nbformat_minor": 4
}
