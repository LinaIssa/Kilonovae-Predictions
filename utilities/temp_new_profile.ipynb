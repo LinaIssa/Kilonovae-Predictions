{
 "cells": [
  {
   "cell_type": "markdown",
   "metadata": {},
   "source": [
    "### Exploration of the Data generated from the simulation code: "
   ]
  },
  {
   "cell_type": "markdown",
   "metadata": {},
   "source": [
    "How the temperature retrieved from the simulation varies spatially and temporally? "
   ]
  },
  {
   "cell_type": "code",
   "execution_count": null,
   "metadata": {},
   "outputs": [],
   "source": [
    "import numpy as np\n",
    "import matplotlib.pyplot as plt\n",
    "from plotUtilities import asManyPlots"
   ]
  },
  {
   "cell_type": "code",
   "execution_count": null,
   "metadata": {},
   "outputs": [],
   "source": [
    "filename1 = 'temp_profile_mej0.05_blue_photons.txt'\n",
    "filename2 = 'temp_profile_mej0.05.txt'\n",
    "Time = np.genfromtxt(filename2, dtype ='float', usecols =(0))\n",
    "#Temp_lr = list(np.genfromtxt(filename, dtype='float', usecols=(1)))\n",
    "#Temp_lf = list(np.genfromtxt(filename, dtype='float', usecols=(2)))\n",
    "#vphot_lr = np.genfromtxt(filename, dtype='float', usecols=(3))\n",
    "#vphot_lf = np.genfromtxt(filename, dtype='float', usecols=(4))\n",
    "Temp = list(np.genfromtxt(filename2, dtype='float', usecols=(1)))\n",
    "dens = list(np.genfromtxt(filename2, dtype='float', usecols=(2)))\n",
    "\n",
    "Time = Time * 1/(24*3600)\n",
    "radi = []\n",
    "for d in dens:\n",
    "    radi.append(d**(-1/3))\n",
    "#vphot_lf = vphot_lf * 1/2.99792458e10\n",
    "#vphot_lr = vphot_lr * 1/2.99792458e10\n",
    "\n",
    "T0    = 5000\n",
    "alpha = -0.4\n",
    "t0    = 1.5 # in day "
   ]
  },
  {
   "cell_type": "code",
   "execution_count": null,
   "metadata": {},
   "outputs": [],
   "source": [
    "def temperature_code(Time):\n",
    "    temp =[]\n",
    "    for t in Time: \n",
    "        T = T0*(t/t0)**alpha\n",
    "        temp.append(T)\n",
    "    return temp"
   ]
  },
  {
   "cell_type": "markdown",
   "metadata": {},
   "source": [
    "#### Draw Temp profile for a given radius"
   ]
  },
  {
   "cell_type": "code",
   "execution_count": null,
   "metadata": {},
   "outputs": [],
   "source": [
    "Time      = list(Time)\n",
    "density   = 5e-14\n",
    "time_axis = list(np.unique(Time))"
   ]
  },
  {
   "cell_type": "code",
   "execution_count": null,
   "metadata": {},
   "outputs": [],
   "source": [
    "temp_axis = []\n",
    "index     = 0\n",
    "\n",
    "\n",
    "for t in time_axis:\n",
    "    epsilon     = 10**30\n",
    "    while (t == Time[index]) and (index< (len(Time)-1)):\n",
    "        if abs(dens[index]-density)<epsilon:\n",
    "            epsilon = abs(dens[index]-density)\n",
    "            temperature = Temp[index]\n",
    "        index+=1\n",
    "    #print(temperature, index)\n",
    "    temp_axis.append(temperature)\n"
   ]
  },
  {
   "cell_type": "code",
   "execution_count": null,
   "metadata": {},
   "outputs": [],
   "source": [
    "temp_axis.remove(temp_axis[0])\n",
    "time_axis.remove(time_axis[0])"
   ]
  },
  {
   "cell_type": "code",
   "execution_count": null,
   "metadata": {},
   "outputs": [],
   "source": [
    "Temp_para = temperature_code(time_axis)\n",
    "print(max(temp_axis))"
   ]
  },
  {
   "cell_type": "code",
   "execution_count": null,
   "metadata": {},
   "outputs": [],
   "source": [
    "ax, lw = asManyPlots(111, [time_axis, time_axis], [Temp_para, temp_axis], linestyle = ['-', '-'], plotFlag=[True, True], color =['darkseagreen', 'firebrick', 'steelblue'], \n",
    "                     markerSize = [0, 7], marker=[None, 'x'], linewidth = 2, \n",
    "                     xlabel='Time since merger (in days)', ylabel='Temperature (in K)', textsize = 14, tickSize=12, \n",
    "                     showLegend=True, label= ['Temperature from Kasliwal+ 2017', 'Temperature without black body assumptions'], \n",
    "                     legendTextSize =10)\n",
    "#ax.xaxis.set_minor_locator(MultipleLocator(1))\n",
    "#ax.yaxis_set_minor_locator(MultopleLocator())\n",
    "#plt.savefig('temperature_profile_blue_photons.pdf', bbox_inches='tight')"
   ]
  },
  {
   "cell_type": "markdown",
   "metadata": {},
   "source": [
    "#### Draw Temperature Profile for a given time"
   ]
  },
  {
   "cell_type": "code",
   "execution_count": null,
   "metadata": {},
   "outputs": [],
   "source": [
    "2**(1/4) * 6852.07"
   ]
  },
  {
   "cell_type": "code",
   "execution_count": null,
   "metadata": {},
   "outputs": [],
   "source": [
    "dens_axis = []\n",
    "temp_axis = []\n",
    "t = 108000/(24*3600)\n",
    "for i in range(len(Time)):\n",
    "    if Time[i] == t:\n",
    "        dens_axis.append(dens[i])\n",
    "        temp_axis.append(Temp[i])\n",
    "\n"
   ]
  },
  {
   "cell_type": "code",
   "execution_count": null,
   "metadata": {},
   "outputs": [],
   "source": [
    "t"
   ]
  },
  {
   "cell_type": "code",
   "execution_count": null,
   "metadata": {},
   "outputs": [],
   "source": [
    "ax, lw = asManyPlots(111, [temp_axis], [dens_axis], linestyle = ['None'], plotFlag=[True], marker ='+',\n",
    "                     markerSize = [7], linewidth = 2, \n",
    "                     xlabel='Temperature', ylabel='Density', textsize = 14, tickSize=12) \n",
    "                     #showLegend=True, label= ['vphot for the lanthanide rich'])\n",
    "                                              \n",
    "                     \n",
    "#ax.xaxis.set_minor_locator(MultipleLocator(1))\n",
    "#plt.savefig('vphot_blue_photons.pdf', bbox_inches='tight')"
   ]
  },
  {
   "cell_type": "code",
   "execution_count": null,
   "metadata": {},
   "outputs": [],
   "source": [
    "import numpy as np\n",
    "import matplotlib.pyplot as plt\n",
    "from plotUtilities import asManyPlots\n",
    "c     = 2.99792458*10**(10)\n",
    "sigma = 5.6704*10**(-5) \n",
    "Day     = 86400\n",
    "filename = 'temp_profile_mej0.05.txt'\n",
    "t_0 = 1*Day\n",
    "\n",
    "R       = 0.3*c*1*Day\n",
    "nb_cell = 100\n",
    "step    = 2*R/(nb_cell)\n",
    "\n",
    "radius = np.arange(0.5, R, step) \n",
    "time   = np.arange(0.25, 15, 0.5) * Day\n",
    "dens   = np.zeros((len(radius),len(time))) \n",
    "\n",
    "\n",
    "Em     = np.unique((np.genfromtxt(filename, dtype ='float', usecols =(3))))[::-1]\n",
    "\n",
    "radius1 = 0.3*c *time\n",
    "dens1   = []\n",
    "\n",
    "T0    = 5000\n",
    "alpha = -0.4\n",
    "t0    = 1.5 *Day# in day \n",
    "\n",
    "def temperature_code(Time):\n",
    "    temp =[]\n",
    "    for t in Time: \n",
    "        T = T0*(t/t0)**alpha\n",
    "        temp.append(T)\n",
    "    return temp\n",
    "\n",
    "\n",
    "        \n",
    "for i in range(len(radius1)):\n",
    "    rho = (radius1[i])**(-3) * 10**30\n",
    "    dens1.append(rho*(t_0/time[i])**3)\n",
    "\n",
    "temp_para = temperature_code(time)\n",
    "\n",
    "def temperature(Em, dens):\n",
    "    u = Em * dens \n",
    "    temp = (c*u/(4*sigma))**(0.25)\n",
    "    return temp\n",
    "\n",
    "Temp1 = temperature(Em, dens[1])\n",
    "Temp2 = temperature(Em, dens[len(radius)-1])\n",
    "\n",
    "Temp_01 = temperature(Em, dens1)\n",
    "\n",
    "\n",
    "time = time *1/Day\n",
    "ax, lw = asManyPlots(111, [time, time, time, time], [temp_para, Temp1, Temp2, Temp_01], plotFlag=[True,True, True,True], color =['crimson', 'bisque', 'lightsteelblue', 'rebeccapurple'], \n",
    "                     markerSize = [0, 0, 0, 0], linewidth = 2, linestyle =['-', '-', '-', '-'],\n",
    "                     xlabel='Time since merger (in days)', ylabel='Temperature (in K)', textsize = 14, tickSize=12, \n",
    "                     showLegend=True, label= ['Temperature from Kasliwal+ 2017', 'Temperature at the center', 'Temperature at the outer region', 'Temperature at 0.1c'], \n",
    "                     legendTextSize =10, ylim=[50, 8000])\n",
    "plt.fill_between(time, Temp1, Temp2, color = 'rosybrown', alpha = 0.3)\n",
    "#plt.savefig('vphot_blue_photons.pdf', bbox_inches='tight')"
   ]
  },
  {
   "cell_type": "code",
   "execution_count": null,
   "metadata": {},
   "outputs": [],
   "source": [
    "import numpy as np\n",
    "import matplotlib.pyplot as plt\n",
    "from plotUtilities import asManyPlots\n",
    "\n",
    "filename = 'dens_r_relation.txt'\n",
    "density = np.genfromtxt(filename, dtype ='float', usecols =(0))\n",
    "radius  = np.genfromtxt(filename, dtype ='float', usecols =(1))\n",
    "\n",
    "radius = radius**(-3)\n",
    "\n",
    "np.polyfit(radius, density, 1)\n",
    "\n",
    "a = np.polyfit(radius, density, 1)[0]\n",
    "b = np.polyfit(radius, density, 1)[1]\n",
    "\n",
    "curve_fit = a*radius"
   ]
  },
  {
   "cell_type": "code",
   "execution_count": null,
   "metadata": {},
   "outputs": [],
   "source": [
    "curve_fit"
   ]
  },
  {
   "cell_type": "code",
   "execution_count": null,
   "metadata": {},
   "outputs": [],
   "source": [
    "ax, lw = asManyPlots(111, [radius, radius], [density, curve_fit], plotFlag =[True, True], linestyle =['-', '-'], marker = [None, None], markerSize=[0,0], color=['red','blue'],linewidth = 2)"
   ]
  },
  {
   "cell_type": "code",
   "execution_count": null,
   "metadata": {},
   "outputs": [],
   "source": [
    "a"
   ]
  },
  {
   "cell_type": "code",
   "execution_count": null,
   "metadata": {},
   "outputs": [],
   "source": [
    "density"
   ]
  },
  {
   "cell_type": "code",
   "execution_count": null,
   "metadata": {},
   "outputs": [],
   "source": [
    "radius[1000]"
   ]
  },
  {
   "cell_type": "code",
   "execution_count": null,
   "metadata": {},
   "outputs": [],
   "source": []
  }
 ],
 "metadata": {
  "kernelspec": {
   "display_name": "Python 3 (ipykernel)",
   "language": "python",
   "name": "python3"
  },
  "language_info": {
   "codemirror_mode": {
    "name": "ipython",
    "version": 3
   },
   "file_extension": ".py",
   "mimetype": "text/x-python",
   "name": "python",
   "nbconvert_exporter": "python",
   "pygments_lexer": "ipython3",
   "version": "3.7.11"
  }
 },
 "nbformat": 4,
 "nbformat_minor": 4
}
