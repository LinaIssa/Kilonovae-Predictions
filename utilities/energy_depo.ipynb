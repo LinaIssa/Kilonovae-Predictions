{
 "cells": [
  {
   "cell_type": "markdown",
   "metadata": {},
   "source": [
    "## Energy Deposition Models in the Monte-Carlo simultation "
   ]
  },
  {
   "cell_type": "markdown",
   "metadata": {},
   "source": [
    "#### Implementation of a more physically motivated method to describe the energy transfer inside the simulation"
   ]
  },
  {
   "cell_type": "code",
   "execution_count": null,
   "metadata": {},
   "outputs": [],
   "source": [
    "import numpy as np\n",
    "from math import *"
   ]
  },
  {
   "cell_type": "code",
   "execution_count": null,
   "metadata": {},
   "outputs": [],
   "source": [
    "pi   = 3.141592654\n",
    "DAY  = 3600 * 24 \n",
    "def heating(t, alpha, eps_0, t_0, sigma):\n",
    "    rate = 2*eps_0*(0.5- 1/pi * atan((t-t_0)/sigma))**alpha         # t in seconds !!!!!\n",
    "    return rate\n",
    "\n",
    "def thermal_efficiency(t,a,b,d):\n",
    "    eps = 0.36*(exp(-a*t/DAY)+ log(1+2*b*(t/DAY)**d)/(2*b*(t/DAY)**d))       # t in days !!!!\n",
    "    return eps\n"
   ]
  },
  {
   "cell_type": "code",
   "execution_count": null,
   "metadata": {},
   "outputs": [],
   "source": [
    "\n",
    "\n",
    "time = np.linspace(0.01, 15, 1500 ) * DAY\n",
    "\n",
    "alpha = 1.30\n",
    "eps_0 = 2.0e18\n",
    "t_0   = 1.30\n",
    "sigma = 0.110\n",
    "\n",
    "a = 0.95\n",
    "b = 0.15\n",
    "d = 1.13\n",
    "\n",
    "Nstep = len"
   ]
  },
  {
   "cell_type": "code",
   "execution_count": null,
   "metadata": {},
   "outputs": [],
   "source": [
    "fname = 'energy_deposition_M0.05_v0.3_EPS_05.txt'\n",
    "with open(fname, 'w', encoding ='utf8') as f: \n",
    "    #f.write('TIME \\t HEATING RATE \\t THERMAL EFFICIENCY \\n')\n",
    "    f.write(f'{len(time)} \\n')\n",
    "    for t in time:\n",
    "        rate = heating(t, alpha, eps_0,  t_0, sigma)\n",
    "        eps  = 0.5 #thermal_efficiency(t, a, b, d)\n",
    "        #print(t, '\\t', rate, '\\t', eps)\n",
    "        f.write(f'{t:7.2f} \\t {rate:.6e} \\t {eps:.6f} \\n')\n",
    " \n",
    "\n"
   ]
  }
 ],
 "metadata": {
  "kernelspec": {
   "display_name": "Python 3 (ipykernel)",
   "language": "python",
   "name": "python3"
  },
  "language_info": {
   "codemirror_mode": {
    "name": "ipython",
    "version": 3
   },
   "file_extension": ".py",
   "mimetype": "text/x-python",
   "name": "python",
   "nbconvert_exporter": "python",
   "pygments_lexer": "ipython3",
   "version": "3.7.11"
  }
 },
 "nbformat": 4,
 "nbformat_minor": 4
}
