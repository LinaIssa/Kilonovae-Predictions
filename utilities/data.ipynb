{
 "cells": [
  {
   "cell_type": "markdown",
   "metadata": {},
   "source": [
    "## DATA FROM GW2017"
   ]
  },
  {
   "cell_type": "code",
   "execution_count": 1,
   "metadata": {},
   "outputs": [],
   "source": [
    "import numpy as np\n"
   ]
  },
  {
   "cell_type": "code",
   "execution_count": 2,
   "metadata": {},
   "outputs": [],
   "source": [
    "filename = 'dataGW17082017.txt'\n",
    "bandR    = 'data_r'\n",
    "bandI    = 'data_i'\n",
    "bandH    = 'data_h'"
   ]
  },
  {
   "cell_type": "code",
   "execution_count": 27,
   "metadata": {},
   "outputs": [],
   "source": [
    "waveR = list(np.reshape(np.genfromtxt(filename, dtype = 'float', delimiter = ',', skip_header = 1, max_rows = 2),18)) + list(np.genfromtxt(filename, dtype ='float', delimiter =',', skip_header = 3, max_rows =1))\n",
    "waveR = np.array(waveR)   #pour pouvoir  ensuite appliquer l'array position\n",
    "\n",
    "position = np.where(~np.isnan(waveR))[0]\n",
    "waveR = waveR[position]\n",
    "\n",
    "waveI = list(np.reshape(np.genfromtxt(filename, dtype ='float', delimiter =',', skip_header = 9, max_rows =2), 18)) + list(np.genfromtxt(filename, dtype='float', delimiter=',', skip_header=12, max_rows=1))\n",
    "waveI = np.array(waveI)\n",
    "position = np.where(~np.isnan(waveI))[0]\n",
    "waveI = waveI[position]\n",
    "\n",
    "\n",
    "waveH = list(np.reshape(np.genfromtxt(filename, dtype ='float', delimiter =',', skip_header = 18, max_rows =2), 18)) \n",
    "waveH = waveH + [14.32]\n",
    "waveH = np.array(waveH)\n",
    "position = np.where(~np.isnan(waveH))[0]\n",
    "waveH = waveH[position]"
   ]
  },
  {
   "cell_type": "code",
   "execution_count": 28,
   "metadata": {},
   "outputs": [],
   "source": [
    "magR = list(np.reshape(np.genfromtxt(filename, dtype = 'float', delimiter = ',', skip_header = 4, max_rows = 3), 18)) + list(np.genfromtxt(filename,  dtype = 'float', delimiter = ',', skip_header = 7, max_rows=1)) \n",
    "magR = np.array(magR)\n",
    "position = np.where(~np.isnan(magR))[0]\n",
    "magR = magR[position]\n",
    "\n",
    "magI = list(np.reshape(np.genfromtxt(filename, dtype ='float', delimiter =',', skip_header = 13, max_rows =3), 18)) + list(np.genfromtxt(filename, dtype='float', delimiter=',', skip_header=16, max_rows=1))\n",
    "magI = np.array(magI)\n",
    "position = np.where(~np.isnan(magI))[0]\n",
    "magI = magI[position]\n",
    "\n",
    "magH = list(np.reshape(np.genfromtxt(filename, dtype ='float', delimiter =',', skip_header = 22, max_rows =3), 18)) + list(np.genfromtxt(filename, dtype='float', delimiter=',', skip_header=25, max_rows=1))\n",
    "magH = np.array(magH)\n",
    "position = np.where(~np.isnan(magH))[0]\n",
    "magH = magH[position]\n"
   ]
  },
  {
   "cell_type": "code",
   "execution_count": 31,
   "metadata": {},
   "outputs": [],
   "source": [
    "with open(bandR, 'w', encoding = 'utf8') as fR:\n",
    "    for i in range(len(waveR)):\n",
    "        fR.write(f'{waveR[i]} \\t {magR[i]} \\n')\n",
    "with open(bandI, 'w', encoding = 'utf8') as fI:\n",
    "    for i in range(len(waveI)):\n",
    "        fI.write(f'{waveI[i]} \\t {magI[i]} \\n')\n",
    "        \n",
    "with open(bandH, 'w', encoding = 'utf8') as fH:\n",
    "    for i in range(len(waveH)):\n",
    "        fH.write(f'{waveH[i]} \\t {magH[i]} \\n')"
   ]
  }
 ],
 "metadata": {
  "kernelspec": {
   "display_name": "Python 3",
   "language": "python",
   "name": "python3"
  },
  "language_info": {
   "codemirror_mode": {
    "name": "ipython",
    "version": 3
   },
   "file_extension": ".py",
   "mimetype": "text/x-python",
   "name": "python",
   "nbconvert_exporter": "python",
   "pygments_lexer": "ipython3",
   "version": "3.7.3"
  }
 },
 "nbformat": 4,
 "nbformat_minor": 4
}
