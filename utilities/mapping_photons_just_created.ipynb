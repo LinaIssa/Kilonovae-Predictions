{
 "cells": [
  {
   "cell_type": "markdown",
   "metadata": {},
   "source": [
    "## Mapping the distribution of photons in the Monte-Carlo Simulation "
   ]
  },
  {
   "cell_type": "code",
   "execution_count": null,
   "metadata": {},
   "outputs": [],
   "source": [
    "import numpy as np\n",
    "import matplotlib.pyplot as plt\n",
    "from plotUtility import *\n",
    "from scipy.stats import gaussian_kde, norm\n",
    "import seaborn as sns\n",
    "import statistics \n",
    "from matplotlib.ticker import (MultipleLocator, FormatStrFormatter,AutoMinorLocator)\n",
    "import itertools\n",
    "import matplotlib.ticker as ticker\n"
   ]
  },
  {
   "cell_type": "code",
   "execution_count": null,
   "metadata": {},
   "outputs": [],
   "source": [
    "file = 'map_photons_origin.txt'\n",
    "x0 = np.genfromtxt(fname = file, skip_header = 1, dtype = 'float', usecols = 0)\n",
    "x1 = np.genfromtxt(fname = file, skip_header = 1, dtype = 'float', usecols = 1)\n",
    "x2 = np.genfromtxt(fname = file, skip_header = 1, dtype = 'float', usecols = 2)\n",
    "t_arrive = np.genfromtxt(fname = file, skip_header = 1, dtype = 'float', usecols = 3)\n",
    "time  = np.genfromtxt(fname = file, skip_header = 1, dtype = 'float', usecols = 4)\n",
    "tesc  = np.genfromtxt(fname = file, skip_header = 1, dtype = 'float', usecols = 5)\n",
    "wave  = np.genfromtxt(fname = file, skip_header = 1, dtype = 'float', usecols = 6)\n",
    "obser = np.genfromtxt(fname = file, skip_header = 1, dtype = 'int', usecols = 7)"
   ]
  },
  {
   "cell_type": "code",
   "execution_count": null,
   "metadata": {},
   "outputs": [],
   "source": [
    "Nph = input('combien de paquets de photons ?')"
   ]
  },
  {
   "cell_type": "code",
   "execution_count": null,
   "metadata": {},
   "outputs": [],
   "source": [
    "l = 0\n",
    "for (i,tau) in enumerate(tesc):\n",
    "    if tau < 0.5:\n",
    "        l+=1\n",
    "         #print(X[i], Y[i], Z[i], wave[i], t_arrive[i], time[i], '\\n')\n",
    "print(l, '\\n', len(tesc))"
   ]
  },
  {
   "cell_type": "code",
   "execution_count": null,
   "metadata": {},
   "outputs": [],
   "source": [
    "x_arrive = []\n",
    "y_arrive = []\n",
    "z_arrive = []\n",
    "l_arrive = [] #observer flag\n",
    "wave_arrive = []\n",
    "\n",
    "for (i,tau) in enumerate(tesc):\n",
    "      if tau < 0.8 and 5<t_arrive[i]:\n",
    "            x_arrive.append(x0[i])\n",
    "            y_arrive.append(x1[i])\n",
    "            z_arrive.append(x2[i])\n",
    "            l_arrive.append(obser[i])\n",
    "            wave_arrive.append(wave[i])\n",
    "    \n"
   ]
  },
  {
   "cell_type": "code",
   "execution_count": null,
   "metadata": {},
   "outputs": [],
   "source": [
    "\n",
    "x_blue_ug_equa = []\n",
    "x_blue_ug_pola = []\n",
    "\n",
    "y_blue_ug_equa = []\n",
    "y_blue_ug_pola = []\n",
    "\n",
    "z_blue_ug_equa = []\n",
    "z_blue_ug_pola  = []\n",
    "\n",
    "x_red_izh_equa = []\n",
    "x_red_izh_pola = []\n",
    "\n",
    "y_red_izh_equa = []\n",
    "y_red_izh_pola = []\n",
    "\n",
    "z_red_izh_equa = []\n",
    "z_red_izh_pola = []\n",
    "\n",
    "x_blue = [x_blue_ug_equa, x_blue_ug_pola]\n",
    "y_blue = [y_blue_ug_equa, y_blue_ug_pola]\n",
    "z_blue = [z_blue_ug_equa, z_blue_ug_pola]\n",
    "\n",
    "x_red = [x_red_izh_equa, x_red_izh_pola]\n",
    "y_red = [y_red_izh_equa, y_red_izh_pola]\n",
    "z_red = [z_red_izh_equa, z_red_izh_pola]\n",
    "\n",
    "\n",
    "\n",
    "\n",
    "for i,w in enumerate(wave_arrive):\n",
    "    if w< 4700 and l_arrive[i] == 0: \n",
    "        x_blue_ug_equa.append(x_arrive[i]/(1e15))\n",
    "        y_blue_ug_equa.append(y_arrive[i]/(1e15))\n",
    "        z_blue_ug_equa.append(z_arrive[i]/(1e15))\n",
    "    if w< 4700 and l_arrive[i] == 1:\n",
    "        x_blue_ug_pola.append(x_arrive[i]/(1e15))\n",
    "        y_blue_ug_pola.append(y_arrive[i]/(1e15))\n",
    "        z_blue_ug_pola.append(z_arrive[i]/(1e15))\n",
    "    if w > 7480 and l_arrive[i] == 0:\n",
    "        x_red_izh_equa.append(x_arrive[i]/(1e15))\n",
    "        y_red_izh_equa.append(y_arrive[i]/(1e15))\n",
    "        z_red_izh_equa.append(z_arrive[i]/(1e15))\n",
    "    if w > 7480 and l_arrive[i] == 1:\n",
    "        x_red_izh_pola.append(x_arrive[i]/(1e15))\n",
    "        y_red_izh_pola.append(y_arrive[i]/(1e15))\n",
    "        z_red_izh_pola.append(z_arrive[i]/(1e15))\n",
    "        \n",
    "#blue_photons = [x_blue, y_blue]\n",
    "#red_photons  = [x_red, y_red]\n",
    "\n",
    "\n",
    "#color = ['blue', 'red']\n",
    "\n",
    "#data = [blue_photons, red_photons]\n",
    "\n",
    "\n",
    "    "
   ]
  },
  {
   "cell_type": "code",
   "execution_count": null,
   "metadata": {},
   "outputs": [],
   "source": [
    "data   = [x_blue[0], z_blue[1], z_blue[0]]\n",
    "labels  = ['Position along x', 'Position along z', 'Position along z' ]\n",
    "titles = ['edge on','face on', 'edge on']\n",
    "color  = ['darkorange', 'rosybrown', 'lightseagreen']\n",
    "mu_0   = statistics.mean(x_blue[0])\n",
    "mu_1   = statistics.mean(z_blue[1])\n",
    "\n",
    "\n",
    "sigma_0 = statistics.stdev(x_blue[0])\n",
    "sigma_1  = statistics.stdev(z_blue[1])\n",
    "\n",
    "\n",
    "\n",
    "minor_locator = AutoMinorLocator(2)\n",
    "\n",
    "sns.set(style=\"white\", palette=\"muted\", color_codes=True)\n",
    "fig, ax = plt.subplots(1,3, figsize=(12,5))\n",
    "\n",
    "for (i, data, c, label, title) in zip(range(len(data)), data, color, labels, titles):\n",
    "    sns.distplot(data, bins = 70, color = c , ax = ax[i], kde =True )\n",
    "    ax[i].set_xlabel(label)\n",
    "    \n",
    "    ax[i].set_title(f'{i+1}) {title} ')\n",
    "    ax[i].xaxis.set_major_locator(ticker.MultipleLocator(2))\n",
    "   # ax[i].xaxis.set_minor_locator(ticker.MultipleLocator(1))\n",
    "    if i ==0:\n",
    "        ax[i].text(2.8, 0.2,f'$\\mu$ ={mu_0: .3f} \\n $\\sigma ={sigma_0: .3f} $', bbox=dict(facecolor='palegreen', alpha=0.3, boxstyle='round'), size=10)\n",
    "        ax[i].set_ylabel('Probability')\n",
    "\n",
    "    if i ==1:\n",
    "        ax[i].text(4, 0.4,f'$\\mu$ ={mu_1: .3f} \\n $\\sigma ={sigma_1: .3f} $', bbox=dict(facecolor='palegreen', alpha=0.3, boxstyle='round'), size=10)\n",
    "\n",
    "output = f'distribution_blue_photons_nph{Nph}.pdf'\n",
    "fig.suptitle('Distribution of the blue photons')\n",
    "plt.savefig(output, bbox_inches='tight')"
   ]
  },
  {
   "cell_type": "code",
   "execution_count": null,
   "metadata": {},
   "outputs": [],
   "source": [
    "print(np.average(x_red[0]), np.average(x_blue[0]))"
   ]
  },
  {
   "cell_type": "code",
   "execution_count": null,
   "metadata": {},
   "outputs": [],
   "source": [
    "color  = ['blue', 'red']\n",
    "data   = [z_blue[1], z_red[1]]\n",
    "titles = ['Distribution of the blue photons', 'Distribution of the red photons']\n",
    "\n",
    "mu_red  = statistics.mean(x_red[0])\n",
    "mu_blue = statistics.mean(x_blue[0])\n",
    "mu      = [mu_blue, mu_red]\n",
    "\n",
    "sigma_blue = statistics.stdev(x_blue[0])\n",
    "sigma_red  = statistics.stdev(x_red[0])\n",
    "sigma      = [sigma_blue, sigma_red] \n",
    "\n",
    "minor_locator = AutoMinorLocator(2)\n",
    "\n",
    "sns.set(style=\"white\", palette=\"muted\", color_codes=True)\n",
    "fig, ax = plt.subplots(1,2, figsize=(10,4))\n",
    "\n",
    "for (i, data, c, title, mu, sigma) in zip(range(len(data)), data, color, titles, mu, sigma):\n",
    "    sns.distplot(data, bins = 70, color = c , ax = ax[i], kde =True )\n",
    "#mu, sigma = statistics.mean(x_blue_ug), statistics.stdev(x_blue_ug)\n",
    "#print(mu, sigma)\n",
    "    ax[i].set_xlabel('Position along x ')\n",
    "    ax[i].set_ylabel('Probability')\n",
    "    ax[i].set_title(title)\n",
    "    \n",
    "    ax[i].text(3, 0.25,f'$\\mu$ ={mu: .5f} \\n $\\sigma ={sigma: .5f} $', bbox=dict(facecolor='grey', alpha=0.2, boxstyle='round'), size=10)\n",
    "\n",
    "    ax[i].xaxis.set_major_locator(ticker.MultipleLocator(2))\n",
    "    ax[i].xaxis.set_minor_locator(ticker.MultipleLocator(1))\n",
    "\n",
    "output = f'distribution_blue_photons_nph{Nph}.pdf'\n",
    "\n",
    "\n",
    "    \n",
    "plt.savefig(\".pdf\", bbox_inches='tight')\n",
    "#print([mu_blue - 2*np.std(x_blue_ug), mu_blue + 2*np.std(x_blue_ug)], '\\n', [mu_red - 2*np.std(x_red_izh), mu_red + 2*np.std(x_red_izh)])"
   ]
  },
  {
   "cell_type": "code",
   "execution_count": null,
   "metadata": {},
   "outputs": [],
   "source": [
    "rng = np.random.RandomState(0)\n",
    "t = np.concatenate([-5 + 1.8 * rng.standard_cauchy(500),\n",
    "                    -4 + 0.8 * rng.standard_cauchy(2000),\n",
    "                    -1 + 0.3 * rng.standard_cauchy(500),\n",
    "                    2 + 0.8 * rng.standard_cauchy(1000),\n",
    "                    4 + 1.5 * rng.standard_cauchy(1000)])\n",
    "data  = [x_blue_ug, x_red_izh]\n",
    "\n",
    "\n",
    "# truncate to a reasonable range\n",
    "t = t[(t > -15) & (t < 15)]\n",
    "color = ['blue', 'red']\n",
    "\n",
    "# draw histograms with two different bin widths\n",
    "fig, ax = plt.subplots(1, 2, figsize=(10, 4))\n",
    "\n",
    "fig.subplots_adjust(left=0.1, right=0.95, bottom=0.15)\n",
    "for i, d, c in zip(range(len(data)), data, color):\n",
    "    ax[i] = sns.distplot(d, bins= 40)\n",
    "    ax[i].set_xlabel('t')\n",
    "    ax[i].set_ylabel('P(t)')\n",
    "    #ax[i].set_title('plt.hist(t, bins={0})'.format(bins),\n",
    "                    #fontdict=dict(family='monospace'))"
   ]
  },
  {
   "cell_type": "code",
   "execution_count": null,
   "metadata": {},
   "outputs": [],
   "source": [
    "\n",
    "color = ['red', 'blue']\n",
    "\n",
    "data = [red_photons, blue_photons]\n",
    "ax = plt.subplot(111)\n",
    "\n",
    "for data, color in zip(data, color):\n",
    "    x,y = data\n",
    "    ax.scatter(x, y, c=color)"
   ]
  },
  {
   "cell_type": "code",
   "execution_count": null,
   "metadata": {},
   "outputs": [],
   "source": [
    "ax.yaxis.set_ticks_position('both')\n",
    "ax.xaxis.set_ticks_position('both')\n",
    "ax.tick_params(which='both', direction='in', labelsize=26)\n",
    "dt  = ax.scatter(x_arrive,y_arrive,wave_arrive, cmap='plasma')\n",
    "col =  plt.colorbar(dt)\n",
    "#col.set_label(r'$|\\Delta \\log P| \\, (\\rm{dyn/cm^{2}})$', size=26)\n",
    "#ax.set_xlabel(r'$\\log \\rho \\, \\rm{(g/cm^{3})}$', size=26)\n",
    "#ax.set_ylabel(r'$\\log T \\, \\rm{(K)}$', size=26)\n",
    "col.ax.tick_params(labelsize=22)\n",
    "cont = ax.contour(X,Y, W)\n",
    "cont.clabel(fontsize=10)\n",
    "#plt.gca().invert_yaxis()        \n",
    "\n",
    "plt.show()"
   ]
  },
  {
   "cell_type": "code",
   "execution_count": null,
   "metadata": {},
   "outputs": [],
   "source": [
    "X, Y = np.meshgrid(np.unique(x_arrive), np.unique(y_arrive))\n",
    "W = np.zeros(np.shape(X))"
   ]
  },
  {
   "cell_type": "code",
   "execution_count": null,
   "metadata": {},
   "outputs": [],
   "source": [
    "test1 = [[True, False], [False, False]]\n",
    "test2 = [[True, False], [False, False]]\n",
    "#whereX_and_Y = np.logical_and(test1, test2)\n",
    "#print(whereX_and_Y)\n",
    "print(wave_arrive)"
   ]
  },
  {
   "cell_type": "code",
   "execution_count": null,
   "metadata": {},
   "outputs": [],
   "source": [
    "size1 = np.shape(X)[0]\n",
    "size2 = np.shape(Y)[0]\n",
    "for index1, x, y in zip(range(size1), X, Y):\n",
    "    for index2, valx, valy in zip(range(size2), x, y):\n",
    "        whereX = x_arrive == valx\n",
    "        whereY = y_arrive == valy\n",
    "        whereX_and_Y = np.logical_and(whereX, whereY)\n",
    "        if np.shape(np.array(np.where(whereX_and_Y))[0])[0]!=0:\n",
    "            position = np.array(np.where(whereX_and_Y))[0][0]\n",
    "            valw = wave_arrive[position]\n",
    "            print(valw)\n",
    "            W[index1, index2] = valw\n",
    "            print(W[index1, index2])"
   ]
  },
  {
   "cell_type": "code",
   "execution_count": null,
   "metadata": {},
   "outputs": [],
   "source": [
    "whereX"
   ]
  },
  {
   "cell_type": "code",
   "execution_count": null,
   "metadata": {},
   "outputs": [],
   "source": [
    "np.logical_and(True, False)"
   ]
  },
  {
   "cell_type": "code",
   "execution_count": null,
   "metadata": {},
   "outputs": [],
   "source": []
  }
 ],
 "metadata": {
  "kernelspec": {
   "display_name": "Python 3 (ipykernel)",
   "language": "python",
   "name": "python3"
  },
  "language_info": {
   "codemirror_mode": {
    "name": "ipython",
    "version": 3
   },
   "file_extension": ".py",
   "mimetype": "text/x-python",
   "name": "python",
   "nbconvert_exporter": "python",
   "pygments_lexer": "ipython3",
   "version": "3.7.11"
  }
 },
 "nbformat": 4,
 "nbformat_minor": 4
}
