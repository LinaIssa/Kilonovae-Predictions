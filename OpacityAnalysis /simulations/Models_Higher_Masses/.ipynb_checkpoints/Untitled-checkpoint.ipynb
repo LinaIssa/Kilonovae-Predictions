{
 "cells": [
  {
   "cell_type": "code",
   "execution_count": 1,
   "metadata": {},
   "outputs": [],
   "source": [
    "import numpy as np "
   ]
  },
  {
   "cell_type": "code",
   "execution_count": 6,
   "metadata": {},
   "outputs": [],
   "source": [
    "KappaLF = [1, 10, 100, 1000, 10000]\n",
    "#GammaLF = [-1, -0.7, -0.4, -0.1]\n",
    "gamma_lf = 0.2\n",
    "KappaLR = [1, 10, 100, 1000, 10000]\n",
    "GammaLR = [-1, -0.7, -0.4, -0.1]\n",
    "\n",
    "Nb_para  = 4\n",
    "Nb_obser = 1\n",
    "Nb_sim   = 25"
   ]
  },
  {
   "cell_type": "code",
   "execution_count": 8,
   "metadata": {},
   "outputs": [],
   "source": [
    "for gamma_lr in GammaLR:\n",
    "    filename = f'setup_gammaLR{gamma_lr}.txt'\n",
    "    with open(filename,'w', encoding = 'utf8') as f:\n",
    "        f.write(f'{Nb_para}  {Nb_obser}  {Nb_sim} \\n')\n",
    "    #for kappalr in KappaLR:\n",
    "        for kappalf in KappaLF:\n",
    "            #for kappa_lr in KappaLR:\n",
    "            for kappalr in KappaLR:\n",
    "                f.write(f'{kappalf}  {gamma_lf}  {kappalr}  {gamma_lr} \\n')\n",
    "    "
   ]
  },
  {
   "cell_type": "code",
   "execution_count": 3,
   "metadata": {},
   "outputs": [],
   "source": [
    "#NEW GRID \n",
    "\n",
    "KappaLF = [1e1, 1e2, 1e3, 1e4, 1e5]\n",
    "\n",
    "GammaLF = [-0.7, -0.4,-0.1,0.2]\n",
    "KappaLR = [1e1, 1e2, 1e3, 1e4, 1e5]\n",
    "\n",
    "GammaLR = [-1,-0.7,-0.4,-0.1]\n",
    "\n",
    "Nb_para  = 4\n",
    "Nb_obser = 1\n",
    "Nb_sim   = 80"
   ]
  },
  {
   "cell_type": "code",
   "execution_count": 4,
   "metadata": {},
   "outputs": [],
   "source": [
    "for kappalf in KappaLF:\n",
    "    filename = f'setup_new_grid_more_photons_kappaLF{kappalf:.0f}.txt'\n",
    "    with open(filename,'w', encoding = 'utf8') as f:\n",
    "        f.write(f'{Nb_para}  {Nb_obser}  {Nb_sim} \\n')\n",
    "        for kappalr in KappaLR:\n",
    "            for gamma_lf in GammaLF:\n",
    "            #for kappa_lr in KappaLR:\n",
    "                for gamma_lr in GammaLR:\n",
    "                    f.write(f'{kappalf:.0f}  {gamma_lf}  {kappalr:.0f}  {gamma_lr} \\n')\n",
    "    "
   ]
  },
  {
   "cell_type": "code",
   "execution_count": 5,
   "metadata": {},
   "outputs": [],
   "source": [
    "#GRID FOR MASSES\n",
    "\n",
    "KappaLF = [1e1, 1e2, 1e3, 1e4]\n",
    "KappaLR = [1e1, 1e2, 1e3, 1e4]\n",
    "GammaLF = [-0.7, -0.5, -0.3, -0.1]\n",
    "GammaLR = [-0.7, -0.5, -0.3, -0.1]\n",
    "\n",
    "Nb_para  = 4\n",
    "Nb_obser = 1\n",
    "Nb_sim   = 64"
   ]
  },
  {
   "cell_type": "code",
   "execution_count": 6,
   "metadata": {},
   "outputs": [],
   "source": [
    "for kappalf in KappaLF:\n",
    "    filename = f'setup_grid_for_masses_kappaLF{kappalf:.0f}.txt'\n",
    "    with open(filename,'w', encoding = 'utf8') as f:\n",
    "        f.write(f'{Nb_para}  {Nb_obser}  {Nb_sim} \\n')\n",
    "        for kappalr in KappaLR:\n",
    "            for gamma_lf in GammaLF:\n",
    "            #for kappa_lr in KappaLR:\n",
    "                for gamma_lr in GammaLR:\n",
    "                    f.write(f'{kappalf:.0f}  {gamma_lf}  {kappalr:.0f}  {gamma_lr} \\n')\n",
    "    "
   ]
  },
  {
   "cell_type": "code",
   "execution_count": null,
   "metadata": {},
   "outputs": [],
   "source": []
  }
 ],
 "metadata": {
  "kernelspec": {
   "display_name": "Python 3",
   "language": "python",
   "name": "python3"
  },
  "language_info": {
   "codemirror_mode": {
    "name": "ipython",
    "version": 3
   },
   "file_extension": ".py",
   "mimetype": "text/x-python",
   "name": "python",
   "nbconvert_exporter": "python",
   "pygments_lexer": "ipython3",
   "version": "3.7.3"
  }
 },
 "nbformat": 4,
 "nbformat_minor": 4
}
