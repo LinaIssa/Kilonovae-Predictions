{
 "cells": [
  {
   "cell_type": "code",
   "execution_count": 1,
   "metadata": {},
   "outputs": [],
   "source": [
    "import numpy as np "
   ]
  },
  {
   "cell_type": "code",
   "execution_count": 7,
   "metadata": {},
   "outputs": [],
   "source": [
    "KappaLF = [1, 10, 100, 1000]\n",
    "GammaLF = [-1, 0.7, 0.4, -0.1]\n",
    "KappaLR = [1, 10, 100, 1000]\n",
    "#kappa_lr = 10000\n",
    "GammaLR = [-1, 0.7, 0.4, -0.1]\n",
    "\n",
    "Nb_para  = 4\n",
    "Nb_obser = 1\n",
    "Nb_sim   = 64"
   ]
  },
  {
   "cell_type": "code",
   "execution_count": 8,
   "metadata": {},
   "outputs": [],
   "source": [
    "for kappalf in KappaLF:\n",
    "    filename = f'setup_{kappalf}.txt'\n",
    "    with open(filename,'w', encoding = 'utf8') as f:\n",
    "        f.write(f'{Nb_para}  {Nb_obser}  {Nb_sim} \\n')\n",
    "        for gamma_lf in GammaLF:\n",
    "            for kappa_lr in KappaLR:\n",
    "                for gamma_lr in GammaLR:\n",
    "                    f.write(f'{kappalf}  {gamma_lf}  {kappa_lr}  {gamma_lr} \\n')\n",
    "    "
   ]
  },
  {
   "cell_type": "code",
   "execution_count": null,
   "metadata": {},
   "outputs": [],
   "source": []
  }
 ],
 "metadata": {
  "kernelspec": {
   "display_name": "Python 3",
   "language": "python",
   "name": "python3"
  },
  "language_info": {
   "codemirror_mode": {
    "name": "ipython",
    "version": 3
   },
   "file_extension": ".py",
   "mimetype": "text/x-python",
   "name": "python",
   "nbconvert_exporter": "python",
   "pygments_lexer": "ipython3",
   "version": "3.7.3"
  }
 },
 "nbformat": 4,
 "nbformat_minor": 4
}
