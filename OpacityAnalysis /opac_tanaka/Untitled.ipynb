{
 "cells": [
  {
   "cell_type": "code",
   "execution_count": null,
   "metadata": {},
   "outputs": [],
   "source": [
    "import numpy as np\n",
    "import matplotlib.pyplot as plt\n",
    "from math import asin,pi, sqrt\n",
    "import matplotlib.patches as patches\n",
    "import matplotlib\n",
    "from matplotlib.ticker import (MultipleLocator, FormatStrFormatter,AutoMinorLocator, LogLocator)\n",
    "from scipy.optimize import curve_fit\n",
    "from plotUtilities import *"
   ]
  },
  {
   "cell_type": "code",
   "execution_count": null,
   "metadata": {},
   "outputs": [],
   "source": [
    "data_file_LF  = ['LF_M0.03_v0.15c_1.5d.dat', 'LF_M0.03_v0.15c_2.5d.dat', 'LF_M0.03_v0.15c_3.5d.dat', 'LF_M0.03_v0.15c_5.5d.dat']\n",
    "data_file_LR  = ['LR_M0.03_v0.15c_1.5d.dat', 'LR_M0.03_v0.15c_2.5d.dat', 'LR_M0.03_v0.15c_3.5d.dat', 'LR_M0.03_v0.15c_5.5d.dat']"
   ]
  },
  {
   "cell_type": "code",
   "execution_count": null,
   "metadata": {},
   "outputs": [],
   "source": [
    "OPAC_LF    = []   # liste des opac pour tous les temps \n",
    "OPAC_LR    = []\n",
    "EPOCH = [1.5, 2.5, 3.5, 5.5]\n",
    "for (i,epoch) in enumerate(EPOCH):\n",
    "    data_LF = data_file_LF[i]\n",
    "    data_LR = data_file_LR[i]\n",
    "    opac_LF = np.genfromtxt(fname=data_LF, skip_header=2, dtype='float', usecols=(5))\n",
    "    opac_LR = np.genfromtxt(fname=data_LR, skip_header=2, dtype='float', usecols=(5))\n",
    "    OPAC_LF.append(opac_LF)\n",
    "    OPAC_LR.append(opac_LR)\n",
    "WaveLength = np.genfromtxt(fname=data_LF, skip_header=2, dtype='float', usecols=(0))"
   ]
  },
  {
   "cell_type": "code",
   "execution_count": null,
   "metadata": {},
   "outputs": [],
   "source": [
    "################################################################## \n",
    "################################# FIT FONCTION ###################\n",
    "################################################################## \n",
    "#lambda_0 =  WaveLength[index_ref]#4.0035000000E+03 \n",
    "#opac_0   =  OPAC_LF[0][index_ref]\n",
    "def fit_function(wave, alpha):# lambda_0, opac_0):\n",
    "    #log_opac_fit = (np.log10(opac_0))*((wave/lambda_0)**(-alpha))\n",
    "    LOG_Opac_Fit = LOG_kappa0 - alpha * (np.log10(wave) - LOG_lambda0 ) \n",
    "    return(LOG_Opac_Fit)\n",
    "        \n",
    "def fit_function_not_LOG(wave, alpha):\n",
    "    opac_fit = opac_0*(wave/lambda_0)**(-alpha)\n",
    "    return opac_fit\n",
    "#########################################################################\n",
    "################################# REBINNING ############################# \n",
    "#########################################################################\n",
    "\n",
    "\n",
    "def rebin(a, *args):\n",
    "    '''rebin ndarray data into a smaller ndarray of the same rank whose dimensions\n",
    "    are factors of the original dimensions. eg. An array with 6 columns and 4 rows\n",
    "    can be reduced to have 6,3,2 or 1 columns and 4,2 or 1 rows.\n",
    "    example usages:\n",
    "    >>> a=rand(6,4); b=rebin(a,3,2)\n",
    "    >>> a=rand(6); b=rebin(a,2)\n",
    "    '''\n",
    "    shape = a.shape\n",
    "    lenShape = len(shape)\n",
    "    factor = (np.asarray(shape)/np.asarray(args))\n",
    "    evList = ['a.reshape('] + \\\n",
    "             ['args[%d],int(factor[%d]),'%(i,i) for i in range(lenShape)] + \\\n",
    "             [')'] + ['.sum(%d)'%(i+1) for i in range(lenShape)] + \\\n",
    "             ['/int(factor[%d])'%i for i in range(lenShape)]\n",
    "    \n",
    "    #print(args[0], factor[0])\n",
    "    #print(a.reshape(args[0], int(factor[0]),).sum(1))\n",
    "    print (''.join(evList))\n",
    "    return eval(''.join(evList))\n",
    "    #return eval('a.reshape(args[0],factor[0],).sum(1)/factor[0]')\n",
    "\n",
    " #########################################################################\n",
    "################################# LISSAGE ############################# \n",
    "#########################################################################\n",
    "\n",
    "def lissage(Lx,Ly, p):\n",
    "    \n",
    "    '''Fonction qui débruite une courbe par une moyenne glissante\n",
    "    sur 2P+1 points'''\n",
    "    Lxout=[]\n",
    "    Lyout=[]\n",
    "    Lxout = Lx[p: -p]\n",
    "    for index in range(p, len(Ly)-p):\n",
    "        average = sum(Ly[index-p : index+p+1]) / (2*p + 1)\n",
    "        Lyout.append(average)\n",
    "        \n",
    "    return Lxout,Lyout"
   ]
  }
 ],
 "metadata": {
  "kernelspec": {
   "display_name": "Python 3",
   "language": "python",
   "name": "python3"
  },
  "language_info": {
   "codemirror_mode": {
    "name": "ipython",
    "version": 3
   },
   "file_extension": ".py",
   "mimetype": "text/x-python",
   "name": "python",
   "nbconvert_exporter": "python",
   "pygments_lexer": "ipython3",
   "version": "3.7.3"
  }
 },
 "nbformat": 4,
 "nbformat_minor": 4
}
