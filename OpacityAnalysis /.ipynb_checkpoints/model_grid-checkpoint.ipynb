{
 "cells": [
  {
   "cell_type": "markdown",
   "metadata": {},
   "source": [
    "# Defining a model grid for a specific opening angle phi "
   ]
  },
  {
   "cell_type": "code",
   "execution_count": 1,
   "metadata": {},
   "outputs": [],
   "source": [
    "import numpy as np \n",
    "import matplotlib.pyplot as plt \n",
    "from math import asin,pi, sqrt\n",
    "from plotUtilities import *\n",
    "import matplotlib.patches as patches\n",
    "import matplotlib\n",
    "from matplotlib.ticker import (MultipleLocator, FormatStrFormatter,AutoMinorLocator)\n"
   ]
  },
  {
   "cell_type": "code",
   "execution_count": 2,
   "metadata": {},
   "outputs": [],
   "source": [
    "c       = 2.99792458e10 # en cm\n",
    "vmax      = 0.9*c\n",
    "vmin_dyn  = 0.08*c\n",
    "vmax_wind = 0.08*c\n",
    "vmin      = 0.025c\n",
    "t         = 3600*24 # time equal to one day \n",
    "R         = t*vmax     #le rayon de la grille\n",
    "nb_cell = 100  # numbers of cells in one direction\n",
    "#R       = 7.77062*10**14\n",
    "step    = 2*R/(nb_cell) \n",
    "phi     = pi/4   # ouverture angulaire de 45° % a l'axe de la fusion\n",
    "alpha1  = 3\n",
    "alpha2  = 6\n",
    "#print(step/10**13,x_max,t,v)"
   ]
  },
  {
   "cell_type": "markdown",
   "metadata": {},
   "source": [
    "# Defining the cells"
   ]
  },
  {
   "cell_type": "code",
   "execution_count": 3,
   "metadata": {},
   "outputs": [],
   "source": [
    "x = np.zeros(nb_cell)\n",
    "for a in range(nb_cell):\n",
    "    x[a] = R - a*step\n",
    "\n",
    "y = np.zeros(nb_cell)\n",
    "for a in range(nb_cell):\n",
    "    y[a] = R - a*step\n",
    "    \n",
    "z = np.zeros(nb_cell)\n",
    "for a in range(nb_cell):\n",
    "    z[a] = R - a*step"
   ]
  },
  {
   "cell_type": "code",
   "execution_count": 4,
   "metadata": {},
   "outputs": [
    {
     "name": "stdout",
     "output_type": "stream",
     "text": [
      "100\n"
     ]
    }
   ],
   "source": [
    "print(len(x))"
   ]
  },
  {
   "cell_type": "code",
   "execution_count": 5,
   "metadata": {},
   "outputs": [],
   "source": [
    "#alpha = pi/2 - phi \n",
    "\n",
    "\n",
    "def density(r,alpha):\n",
    "    return  A*r**(-alpha)     # on prend A = 1\n",
    "    \n",
    "\n",
    "with open(\"grid_input_opang30.txt\", \"w+\", encoding = 'utf-8') as model:\n",
    "    model.write(f\"{nb_cell} {R:e} {t} \\n\")\n",
    "    for l in x:\n",
    "        for m in y:\n",
    "            for n in z: \n",
    "                r = sqrt((l-step/2)**2 + (m-step/2)**2 + (n-step/2)**2)      \n",
    "                if r>R or r<(vmin*t):               #outside the sphere \n",
    "                    A = 1.\n",
    "                    dens  = density(r,alpha1)\n",
    "                    gamma = 0.4\n",
    "                else:\n",
    "                    A = 10**30 \n",
    "                    if (vmin*t)<r<(vmin_dyn*t):  #in the wind outflow\n",
    "                        dens  = density(r,alpha1)\n",
    "                        gamma = 0.25\n",
    "                    else:                         #in the dynamical outflow\n",
    "                        dens = density(r,alpha2)\n",
    "                        theta = asin((n-step/2)/r)\n",
    "                        if abs(theta) < phi:     # red ejecta \n",
    "                            gamma = 0.2\n",
    "                        else:\n",
    "                            gamma = 0.4\n",
    "                #else:\n",
    "                    #if -theta < phi:    # red ejecta \n",
    "                     #   gamma = 0.2\n",
    "                    #else:\n",
    "                     #   gamma = 0.4\n",
    "                model.write(f'{(l-step/2):e} {(m-step/2):e} {(n-step/2):e} {dens:e} {gamma}\\n')"
   ]
  },
  {
   "cell_type": "code",
   "execution_count": null,
   "metadata": {},
   "outputs": [],
   "source": [
    "data = 'grid_input2.txt'\n",
    "x, y, z, dens, gamma = np.genfromtxt(data, skip_header=1, unpack=True)"
   ]
  },
  {
   "cell_type": "code",
   "execution_count": null,
   "metadata": {},
   "outputs": [],
   "source": [
    "x1 = []\n",
    "x2 = []\n",
    "rho =[]\n",
    "fract_electron =[]\n",
    "for i in range(len(x)): \n",
    "    if x[i] == 7.770616e+12:\n",
    "        x1.append(y[i])\n",
    "        x2.append(z[i])\n",
    "        rho.append(dens[i])\n",
    "        fract_electron.append(gamma[i]) "
   ]
  },
  {
   "cell_type": "code",
   "execution_count": null,
   "metadata": {},
   "outputs": [],
   "source": [
    "print(len(x1), len(x2))"
   ]
  },
  {
   "cell_type": "code",
   "execution_count": null,
   "metadata": {},
   "outputs": [],
   "source": [
    "Y, Z = np.meshgrid(np.sort(np.unique(x1)),np.sort(x2))\n",
    "Gamma = np.copy(Y)\n",
    "\n",
    "size1 = np.shape(Y)[0]\n",
    "size2 = np.shape(Z)[0]"
   ]
  },
  {
   "cell_type": "code",
   "execution_count": null,
   "metadata": {},
   "outputs": [],
   "source": []
  },
  {
   "cell_type": "code",
   "execution_count": null,
   "metadata": {},
   "outputs": [],
   "source": [
    "for index1, yl, zl in zip(range(size1), Y, Z):\n",
    "    for index2, valY, valZ in zip(range(size2), yl, zl):\n",
    "        whereY       = x1 == valY\n",
    "        whereZ       = x2 == valZ\n",
    "        whereY_and_Z = np.logical_and(whereY,whereZ)\n",
    "        position             = np.array(np.where(whereY_and_Z))[0][0]\n",
    "        valF                 = fract_electron[position]\n",
    "        Gamma[index1,index2] = valF\n",
    "       "
   ]
  },
  {
   "cell_type": "code",
   "execution_count": null,
   "metadata": {},
   "outputs": [],
   "source": [
    "\n",
    "ax = plt.subplot(111)\n",
    "ax.yaxis.set_ticks_position('both')\n",
    "ax.xaxis.set_ticks_position('both')\n",
    "ax.tick_params(which='both', direction='in', labelsize=26)\n",
    "\n",
    "\n",
    "dt = ax.contourf(Y, Z, Gamma, 200, cmap='coolwarm')\n",
    "col = plt.colorbar(dt)\n",
    "\n",
    "col.set_label(r'$\\gamma_e$', size=26)\n",
    "ax.set_xlabel(r'$y, \\rm{cm}$', size=26)\n",
    "ax.set_ylabel(r'$z, \\rm{cm}$', size=26)\n",
    "col.ax.tick_params(labelsize=22)\n",
    "cont = plt.contour(Y, Z, Gamma, levels=[0.3,0.5,1], colors='black', linestyle=\"--\")\n",
    "cont.clabel(fontsize=10)\n",
    "plt.savefig(\"ejecta_diagram.pdf\", bbox_inches='tight')"
   ]
  },
  {
   "cell_type": "code",
   "execution_count": 40,
   "metadata": {},
   "outputs": [],
   "source": [
    "x = np.linspace(-5,5, 50)\n",
    "def demi_cercle(x):\n",
    "    y=[]\n",
    "    for elt in x:\n",
    "        a = sqrt(5**2 - elt**2)\n",
    "        y.append(a)\n",
    "    return y\n",
    "\n",
    "def demi_cercle2(x):\n",
    "    y=[]\n",
    "    for elt in x:\n",
    "        a = -sqrt(5**2 - elt**2)\n",
    "        y.append(a)\n",
    "    return y\n",
    "\n",
    "\n",
    "\n",
    "y1 = demi_cercle(x) \n",
    "y2 = demi_cercle2(x)"
   ]
  },
  {
   "cell_type": "code",
   "execution_count": 43,
   "metadata": {},
   "outputs": [
    {
     "data": {
      "image/png": "[encoded data removed]",
      "text/plain": [
       "<Figure size 432x288 with 1 Axes>"
      ]
     },
     "metadata": {
      "needs_background": "light"
     },
     "output_type": "display_data"
    }
   ],
   "source": [
    "ax, lw = asManyPlots(111, [x,x], [y1,y2], plotFlag=[True, True], markerSize = [0,0], linestyle= ['-','-'], color=['black', 'black'], linewidth=4)"
   ]
  },
  {
   "cell_type": "code",
   "execution_count": 136,
   "metadata": {},
   "outputs": [],
   "source": [
    "def make_circle(r):\n",
    "    t = np.arange(0, np.pi * 2.0, 0.01)\n",
    "    #t = t.reshape((len(t), 1))\n",
    "    x = r * np.cos(t)\n",
    "    y = r * np.sin(t)\n",
    "    return x,y\n",
    "def make_circle2(r):\n",
    "    t = np.arange(-np.pi/2, np.pi/2, 0.01)\n",
    "    #t = t.reshape((len(t), 1))\n",
    "    x = r * np.cos(t)\n",
    "    y = r * np.sin(t)\n",
    "    return x,y\n",
    "x_circle,y_circle = make_circle(1)\n",
    "x_circle2,y_circle2 = make_circle2(1)"
   ]
  },
  {
   "cell_type": "code",
   "execution_count": 163,
   "metadata": {},
   "outputs": [],
   "source": [
    "x_plus = np.arange(0.0, 1, 0.01)\n",
    "x_neg = np.arange(-1, 0.0, 0.01)\n",
    "def triangle1(phi,x):\n",
    "    y = np.sin(phi)*x\n",
    "    return y\n",
    "def triangle2(phi,x):\n",
    "    y = - np.sin(phi)*x\n",
    "    return y"
   ]
  },
  {
   "cell_type": "code",
   "execution_count": 164,
   "metadata": {},
   "outputs": [],
   "source": [
    "\n",
    "a = int((len(x_circle)+1)/2)\n",
    "#x  =  x_circle[:a]\n",
    "\n",
    "#y  =  y_circle\n",
    "y1 = triangle1(np.pi/6,x_plus)\n",
    "y2 = triangle2(np.pi/6,x_plus)\n",
    "y3 = triangle1(np.pi/6,x_neg)\n",
    "y4 = triangle2(np.pi/6,x_neg)"
   ]
  },
  {
   "cell_type": "code",
   "execution_count": 4,
   "metadata": {},
   "outputs": [],
   "source": [
    "def make_circle(r):\n",
    "    t = np.arange(0, np.pi/6, 0.01)\n",
    "    #t = t.reshape((len(t), 1))\n",
    "    x = r * np.cos(t)\n",
    "    y = r * np.sin(t)\n",
    "    return x,y"
   ]
  },
  {
   "cell_type": "code",
   "execution_count": 5,
   "metadata": {},
   "outputs": [
    {
     "name": "stdout",
     "output_type": "stream",
     "text": [
      "[0. 0. 0. 0. 0. 0. 0.]\n"
     ]
    }
   ],
   "source": [
    "vout_dyn = 0.3\n",
    "ax_ratio_dyn=1\n",
    "open_angle = 30\n",
    "\n",
    "x_arc, y_arc = make_circle(0.1)\n",
    "\n",
    "x = np.arange(-0.3, 0.4, 0.1)\n",
    "y =np.zeros(len(x))\n",
    "print(y)"
   ]
  },
  {
   "cell_type": "code",
   "execution_count": 6,
   "metadata": {},
   "outputs": [
    {
     "data": {
      "image/png": "[encoded data removed]",
      "text/plain": [
       "<Figure size 432x288 with 1 Axes>"
      ]
     },
     "metadata": {
      "needs_background": "light"
     },
     "output_type": "display_data"
    }
   ],
   "source": [
    "a = patches.Ellipse((0,0), vout_dyn*2,vout_dyn*2*ax_ratio_dyn,facecolor=\"steelblue\",edgecolor=\"black\", linewidth=1.5,zorder=1,alpha=1,label=\"Lanthanide-free\")\n",
    "plt.gca().add_patch(a)\n",
    "a=patches.Wedge(0,(vout_dyn,vout_dyn*ax_ratio_dyn),-open_angle,open_angle,zorder=2,facecolor=\"indianred\",alpha=1,edgecolor=\"black\",label=\"Lanthanide-rich\")\n",
    "plt.gca().add_patch(a)\n",
    "a=patches.Wedge(0,(-vout_dyn,-vout_dyn*ax_ratio_dyn),-open_angle,open_angle,zorder=2,facecolor=\"indianred\",alpha=1,edgecolor=\"black\")\n",
    "plt.gca().add_patch(a)\n",
    "\n",
    "plt.plot(x,y, color='black', linestyle='dotted')\n",
    "\n",
    "plt.plot(x_arc, y_arc, color ='black', alpha = 0.8)\n",
    "\n",
    "plt.gca().text(0.14, 0.035, r'$\\phi$')\n",
    "\n",
    "\n",
    "\n",
    "plt.title('Model of 2 ejecta components')\n",
    "plt.gca().set_xlabel('velocity along equatorial plane (in c)')\n",
    "plt.gca().set_ylabel('velocity along polar plane (in c)')\n",
    "plt.gca().set_aspect(1)\n",
    "plt.xticks(np.arange(-0.6,0.6,0.2))\n",
    "plt.yticks(np.arange(-0.6,0.6,0.2))\n",
    "plt.xlim(-0.5,0.5)\n",
    "plt.ylim(-0.5,0.5)\n",
    "plt.gca().xaxis.set_minor_locator(MultipleLocator(0.1))\n",
    "plt.gca().yaxis.set_minor_locator(MultipleLocator(0.1))\n",
    "plt.legend()\n",
    "plt.savefig(\"model_ejecta.pdf\", bbox_inches='tight')"
   ]
  },
  {
   "cell_type": "code",
   "execution_count": null,
   "metadata": {},
   "outputs": [],
   "source": [
    "plt.plot(x_circle,y_circle)\n",
    "\n",
    "\n",
    "#plt.plot(x, y1)\n",
    "#plt.plot(x, y2)\n",
    "\n",
    "\n",
    "#plt.fill_between(x_plus, y1, y2, facecolor='firebrick')\n",
    "#plt.fill_between(x_neg, y3, y4, facecolor='firebrick')\n",
    "plt.fill_between(x_plus+x_neg, y1, y_circle2, where=(y_circle2.all())>(y1.all()), facecolor='blue')"
   ]
  },
  {
   "cell_type": "code",
   "execution_count": 151,
   "metadata": {},
   "outputs": [],
   "source": []
  },
  {
   "cell_type": "code",
   "execution_count": 152,
   "metadata": {},
   "outputs": [
    {
     "name": "stdout",
     "output_type": "stream",
     "text": [
      "False\n"
     ]
    }
   ],
   "source": []
  },
  {
   "cell_type": "code",
   "execution_count": 139,
   "metadata": {},
   "outputs": [
    {
     "data": {
      "text/plain": [
       "(315,)"
      ]
     },
     "execution_count": 139,
     "metadata": {},
     "output_type": "execute_result"
    }
   ],
   "source": [
    "np.shape(y_circle2)"
   ]
  },
  {
   "cell_type": "code",
   "execution_count": null,
   "metadata": {},
   "outputs": [],
   "source": []
  }
 ],
 "metadata": {
  "kernelspec": {
   "display_name": "Python 3",
   "language": "python",
   "name": "python3"
  },
  "language_info": {
   "codemirror_mode": {
    "name": "ipython",
    "version": 3
   },
   "file_extension": ".py",
   "mimetype": "text/x-python",
   "name": "python",
   "nbconvert_exporter": "python",
   "pygments_lexer": "ipython3",
   "version": "3.7.3"
  }
 },
 "nbformat": 4,
 "nbformat_minor": 4
}
