{
 "cells": [
  {
   "cell_type": "markdown",
   "metadata": {},
   "source": [
    "# Defining a model grid for a specific opening angle phi "
   ]
  },
  {
   "cell_type": "code",
   "execution_count": 13,
   "metadata": {},
   "outputs": [],
   "source": [
    "import numpy as np \n",
    "import matplotlib.pyplot as plt \n",
    "from math import asin, pi, sqrt\n",
    "#from stage2 import *"
   ]
  },
  {
   "cell_type": "code",
   "execution_count": 18,
   "metadata": {},
   "outputs": [
    {
     "name": "stdout",
     "output_type": "stream",
     "text": [
      "1.5541232323232321 777600000000000 86400 9000000000.0\n"
     ]
    }
   ],
   "source": [
    "c       = 3*10**10 # en cm\n",
    "v       = 0.3*c\n",
    "t       = 3600*24 # time equal to one day \n",
    "x_max   = int(t*v)     #le rayon de la grille\n",
    "nb_cell = 100  # numbers of cells in one direction\n",
    "R       = 7.77062*10**14\n",
    "step    = 2*R/(nb_cell) \n",
    "#phi     = pi/12\n",
    "phi = 0\n",
    "print(step/10**13,x_max,t,v)"
   ]
  },
  {
   "cell_type": "markdown",
   "metadata": {},
   "source": [
    "# Defining the cells"
   ]
  },
  {
   "cell_type": "code",
   "execution_count": 15,
   "metadata": {},
   "outputs": [],
   "source": [
    "x = np.zeros(nb_cell)\n",
    "for a in range(nb_cell):\n",
    "    x[a] = R - a*step\n",
    "\n",
    "y = np.zeros(nb_cell)\n",
    "for a in range(nb_cell):\n",
    "    y[a] = R - a*step\n",
    "    \n",
    "z = np.zeros(nb_cell)\n",
    "for a in range(nb_cell):\n",
    "    z[a] = R - a*step"
   ]
  },
  {
   "cell_type": "code",
   "execution_count": 16,
   "metadata": {},
   "outputs": [],
   "source": [
    "#alpha = pi/2 - phi \n",
    "\n",
    "\n",
    "def density(r):\n",
    "    return  A*r**(-3)     # on prend A = 1\n",
    "    \n",
    "\n",
    "with open(\"grid_input4.txt\", \"w+\", encoding = 'utf-8') as model:\n",
    "    model.write(f\"{nb_cell} {x_max:e} {t} \\n\")\n",
    "    for l in x:\n",
    "        for m in y:\n",
    "            for n in z: \n",
    "                r = sqrt((l-step/2)**2 + (m-step/2)**2 + (n-step/2)**2)      \n",
    "                if r>R:               #outside the sphere \n",
    "                    A = 1.\n",
    "                    dens  = density(r)\n",
    "                    gamma = 0.4\n",
    "                else:\n",
    "                    A = 10**30 \n",
    "                    dens  = density(r)\n",
    "                theta = asin((n-step/2)/r)\n",
    "                if abs(theta) < phi:     # red ejecta \n",
    "                    gamma = 0.2\n",
    "                else:\n",
    "                    gamma = 0.4\n",
    "                #else:\n",
    "                    #if -theta < phi:    # red ejecta \n",
    "                     #   gamma = 0.2\n",
    "                    #else:\n",
    "                     #   gamma = 0.4\n",
    "                model.write(f'{(l-step/2):e} {(m-step/2):e} {(n-step/2):e} {dens:e} {gamma}\\n')"
   ]
  },
  {
   "cell_type": "code",
   "execution_count": null,
   "metadata": {},
   "outputs": [],
   "source": [
    "data = 'grid_input2.txt'\n",
    "x, y, z, dens, gamma = np.genfromtxt(data, skip_header=1, unpack=True)"
   ]
  },
  {
   "cell_type": "code",
   "execution_count": null,
   "metadata": {},
   "outputs": [],
   "source": [
    "x1 = []\n",
    "x2 = []\n",
    "rho =[]\n",
    "fract_electron =[]\n",
    "for i in range(len(x)): \n",
    "    if x[i] == 7.770616e+12:\n",
    "        x1.append(y[i])\n",
    "        x2.append(z[i])\n",
    "        rho.append(dens[i])\n",
    "        fract_electron.append(gamma[i]) "
   ]
  },
  {
   "cell_type": "code",
   "execution_count": null,
   "metadata": {},
   "outputs": [],
   "source": [
    "print(len(x1), len(x2))"
   ]
  },
  {
   "cell_type": "code",
   "execution_count": null,
   "metadata": {},
   "outputs": [],
   "source": [
    "Y, Z = np.meshgrid(np.sort(np.unique(x1)),np.sort(x2))\n",
    "Gamma = np.copy(Y)\n",
    "\n",
    "size1 = np.shape(Y)[0]\n",
    "size2 = np.shape(Z)[0]"
   ]
  },
  {
   "cell_type": "code",
   "execution_count": null,
   "metadata": {},
   "outputs": [],
   "source": []
  },
  {
   "cell_type": "code",
   "execution_count": null,
   "metadata": {},
   "outputs": [],
   "source": [
    "for index1, yl, zl in zip(range(size1), Y, Z):\n",
    "    for index2, valY, valZ in zip(range(size2), yl, zl):\n",
    "        whereY       = x1 == valY\n",
    "        whereZ       = x2 == valZ\n",
    "        whereY_and_Z = np.logical_and(whereY,whereZ)\n",
    "        position             = np.array(np.where(whereY_and_Z))[0][0]\n",
    "        valF                 = fract_electron[position]\n",
    "        Gamma[index1,index2] = valF\n",
    "       "
   ]
  },
  {
   "cell_type": "code",
   "execution_count": null,
   "metadata": {},
   "outputs": [],
   "source": [
    "\n",
    "ax = plt.subplot(111)\n",
    "ax.yaxis.set_ticks_position('both')\n",
    "ax.xaxis.set_ticks_position('both')\n",
    "ax.tick_params(which='both', direction='in', labelsize=26)\n",
    "\n",
    "\n",
    "dt = ax.contourf(Y, Z, Gamma, 200, cmap='coolwarm')\n",
    "col = plt.colorbar(dt)\n",
    "\n",
    "col.set_label(r'$\\gamma_e$', size=26)\n",
    "ax.set_xlabel(r'$y, \\rm{cm}$', size=26)\n",
    "ax.set_ylabel(r'$z, \\rm{cm}$', size=26)\n",
    "col.ax.tick_params(labelsize=22)\n",
    "cont = plt.contour(Y, Z, Gamma, levels=[0.3,0.5,1], colors='black', linestyle=\"--\")\n",
    "cont.clabel(fontsize=10)\n",
    "plt.savefig(\"ejecta_diagram.pdf\", bbox_inches='tight')"
   ]
  },
  {
   "cell_type": "code",
   "execution_count": null,
   "metadata": {},
   "outputs": [],
   "source": []
  }
 ],
 "metadata": {
  "kernelspec": {
   "display_name": "Python 3",
   "language": "python",
   "name": "python3"
  },
  "language_info": {
   "codemirror_mode": {
    "name": "ipython",
    "version": 3
   },
   "file_extension": ".py",
   "mimetype": "text/x-python",
   "name": "python",
   "nbconvert_exporter": "python",
   "pygments_lexer": "ipython3",
   "version": "3.7.3"
  }
 },
 "nbformat": 4,
 "nbformat_minor": 4
}
