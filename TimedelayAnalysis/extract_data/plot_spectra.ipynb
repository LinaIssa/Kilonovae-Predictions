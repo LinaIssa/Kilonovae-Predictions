{
 "cells": [
  {
   "cell_type": "markdown",
   "metadata": {},
   "source": [
    "# Tracé de spectres"
   ]
  },
  {
   "cell_type": "code",
   "execution_count": 1,
   "metadata": {},
   "outputs": [],
   "source": [
    "import numpy as np\n",
    "import matplotlib.pyplot as plt\n",
    "import itertools\n",
    "from stage2 import *"
   ]
  },
  {
   "cell_type": "code",
   "execution_count": 2,
   "metadata": {},
   "outputs": [],
   "source": [
    "fname    = 'nph1.0e+04_mej0.04_phi15_T5.0e+03_aopac1.0_spec.txt'\n",
    "outname1 = 'flux_spectra_1day.txt'\n",
    "outname2 = 'flux_spectra_2day.txt'\n",
    "outname4 = 'flux_spectra_4day.txt'\n",
    "outname7 = 'flux_spectra_7day.txt'"
   ]
  },
  {
   "cell_type": "code",
   "execution_count": 3,
   "metadata": {},
   "outputs": [],
   "source": [
    "nb_bins = 50"
   ]
  },
  {
   "cell_type": "code",
   "execution_count": 4,
   "metadata": {},
   "outputs": [],
   "source": [
    "header1 = np.genfromtxt(fname, max_rows=1, dtype='int')\n",
    "header2 = np.genfromtxt(fname, max_rows=1, skip_header=1, dtype='int')\n",
    "header3 = np.genfromtxt(fname, max_rows=1, skip_header=2, dtype='float', usecols = (0,1))\n",
    "\n",
    "wavelength = np.genfromtxt(fname, skip_header=3, max_rows=nb_bins, dtype='float', usecols= (0))\n",
    "intensity_equatorial_1  = np.genfromtxt(fname, skip_header=3, max_rows=nb_bins, dtype='float', usecols= (1))\n",
    "intensity_polar_1       = np.genfromtxt(fname, skip_header=nb_bins+3, max_rows=nb_bins, dtype='float', usecols= (1))\n",
    "\n",
    "#print(intensity_polar_1)\n",
    "#test = np.genfromtxt(fname, skip_header=3, max_rows=1, dtype='float')"
   ]
  },
  {
   "cell_type": "markdown",
   "metadata": {},
   "source": [
    "## Intensités calculées pour différents jours "
   ]
  },
  {
   "cell_type": "code",
   "execution_count": 5,
   "metadata": {},
   "outputs": [],
   "source": [
    "intensity_equatorial_2 = np.genfromtxt(fname, skip_header=3, max_rows=nb_bins, dtype='float', usecols=(7)) # 2 days\n",
    "intensity_polar_2      =np.genfromtxt(fname, skip_header=nb_bins+3, max_rows=nb_bins, dtype='float', usecols=(7))\n",
    "\n",
    "intensity_equatorial_4 = np.genfromtxt(fname, skip_header=3, max_rows=nb_bins, dtype='float', usecols=(19))    # 4 days \n",
    "intensity_polar_4      = np.genfromtxt(fname, skip_header=nb_bins+3, max_rows=nb_bins, dtype='float', usecols=(19))\n",
    "\n",
    "intensity_equatorial_7 = np.genfromtxt(fname, skip_header=3, max_rows=nb_bins, dtype='float', usecols=(37))    # 7 days \n",
    "intensity_polar_7      = np.genfromtxt(fname, skip_header=nb_bins+3, max_rows=nb_bins, dtype='float', usecols=(37))"
   ]
  },
  {
   "cell_type": "code",
   "execution_count": 6,
   "metadata": {},
   "outputs": [],
   "source": [
    "intensity_equatorial_1 = intensity_equatorial_1/(16*100)\n",
    "intensity_polar_1      = intensity_polar_1/(16*100)\n",
    "intensity_equatorial_2 = intensity_equatorial_2/(16*100)\n",
    "intensity_polar_2      = intensity_polar_2/(16*100)\n",
    "intensity_equatorial_4 = intensity_equatorial_4/(16*100)\n",
    "intensity_polar_4      = intensity_polar_4/(16*100)\n",
    "intensity_equatorial_7 = intensity_equatorial_7/(16*100)\n",
    "intensity_polar_7      = intensity_polar_7/(16*100)"
   ]
  },
  {
   "cell_type": "code",
   "execution_count": 8,
   "metadata": {},
   "outputs": [
    {
     "name": "stdout",
     "output_type": "stream",
     "text": [
      "[4.3177e-15 2.2374e-14 8.2429e-14 1.5980e-13 1.8836e-13 2.3095e-13\n",
      " 2.3283e-13 3.3901e-13 4.3561e-13 4.9771e-13 4.3815e-13 4.5830e-13\n",
      " 3.8532e-13 3.6854e-13 3.2839e-13 2.6055e-13 2.5176e-13 1.6722e-13\n",
      " 1.5434e-13 1.4379e-13 8.9776e-14 5.2216e-14 6.3867e-14 5.7510e-14\n",
      " 3.7756e-14 7.1251e-14 3.4509e-14 4.4076e-14 5.1653e-14 5.0204e-15\n",
      " 1.7521e-14 1.2386e-14 1.8238e-14 1.3003e-14 2.5490e-14 1.6142e-14\n",
      " 7.0062e-15 8.8958e-15 2.9528e-14 3.8541e-16 1.1364e-14 6.1785e-15\n",
      " 6.9756e-15 5.8145e-15 3.7154e-15 1.0491e-14 1.1287e-14 8.1571e-15\n",
      " 2.7246e-15 1.1465e-14]\n"
     ]
    }
   ],
   "source": [
    "data1 = np.zeros((nb_bins,3))\n",
    "data2 = np.zeros((nb_bins,3))\n",
    "data4 = np.zeros((nb_bins,3))\n",
    "data7 = np.zeros((nb_bins,3))\n",
    "\n",
    "data1[:,0] = intensity_equatorial_1\n",
    "data1[:,1] = intensity_polar_1\n",
    "data1[:,2] = wavelength\n",
    "print(data1[:,0]*16*100)\n",
    "data2[:,0] = intensity_equatorial_2\n",
    "data2[:,1] = intensity_polar_2\n",
    "data2[:,2] = wavelength\n",
    "\n",
    "data4[:,0] = intensity_equatorial_4\n",
    "data4[:,1] = intensity_polar_4\n",
    "data4[:,2] = wavelength\n",
    "\n",
    "data7[:,0] = intensity_equatorial_7\n",
    "data7[:,1] = intensity_polar_7\n",
    "data7[:,2] = wavelength\n",
    "\n",
    "hdr = 'Intensity_equatorial     Intensity_polar          Wavelength \\n'\n",
    "\n",
    "np.savetxt(outname1, data1, delimiter='  ', header=hdr, comments='')\n",
    "np.savetxt(outname2, data2, delimiter='  ', header=hdr, comments='')\n",
    "np.savetxt(outname4, data4, delimiter='  ', header=hdr, comments='')\n",
    "np.savetxt(outname7, data7, delimiter='  ', header=hdr, comments='')"
   ]
  },
  {
   "cell_type": "code",
   "execution_count": null,
   "metadata": {},
   "outputs": [],
   "source": [
    "plt.rcParams['figure.figsize'] = [11, 11] #[largeur, hauteur]\n",
    "f = plt.figure()\n",
    "plt.subplots_adjust(wspace=0.05, hspace=0.05) #wspace = écartement horizontal, #vspace=vertical ?\n"
   ]
  },
  {
   "cell_type": "code",
   "execution_count": null,
   "metadata": {},
   "outputs": [],
   "source": [
    "Ax, Lw = asManyPlots(111, [wavelength], [intensity_equatorial_1], xlabel=r'$\\lambda \\, (\\rm{\\AA}$)', ylabel=r'Flux ($\\rm{erg \\ s^{-1} cm^{-2}\\AA^{-1}}$)',\n",
    "                     markerSize=[10], marker=['*'], color=['black'], label=['equatorial viewing angle'],showLegend=True, legendLineColor='black' )\n",
    "plt.yscale(value='log')\n",
    "sometext=plt.text(20500, 2*10**(-17),'day 7', bbox=dict(facecolor='grey', alpha=0.2, boxstyle='round'), size=20)\n",
    "#plt.savefig(\"intensity_7day.pdf\", bbox_inches='tight')"
   ]
  },
  {
   "cell_type": "code",
   "execution_count": null,
   "metadata": {},
   "outputs": [],
   "source": [
    "Ax, Lw = asManyPlots(111, [wavelength], [intensity_equatorial_1], xlabel=r'$\\lambda \\, (\\rm{\\AA}$)', ylabel=r'Flux ($\\rm{erg \\ s^{-1} cm^{-2}\\AA^{-1}}$)',\n",
    "                     markerSize=[10], marker=['*'], color=['black'], label=['equatorial viewing angle'],showLegend=True, legendLineColor='black', \n",
    "                     ylim=[10**(-19),10**(-16)]  )\n",
    "plt.yscale(value='log')\n",
    "sometext=plt.text(20500, 2*10**(-17),'day 7', bbox=dict(facecolor='grey', alpha=0.2, boxstyle='round'), size=20)\n",
    "#plt.savefig(\"intensity_7day.pdf\", bbox_inches='tight')"
   ]
  },
  {
   "cell_type": "code",
   "execution_count": null,
   "metadata": {},
   "outputs": [],
   "source": [
    "Ax, Lw = asManyPlots(111, [wavelength,wavelength], [intensity_equatorial_7, intensity_polar_7], xlabel=r'$\\lambda \\, (\\rm{\\AA}$)', ylabel=r'Flux ($\\rm{erg \\ s^{-1} cm^{-2}\\AA^{-1}}$)',\n",
    "                     markerSize=[10,10], marker=['*','*'], color=['black','red'], label=['equatorial viewing angle', 'polar viewing angle'],showLegend=True, legendLineColor='black', ylim=[1.*10**(-19),1.*10**(-16)] )\n",
    "plt.yscale(value='log')\n",
    "sometext=plt.text(15500, 1.5*10**(-19),'day 7' '\\n' '50 frequancy bins', bbox=dict(facecolor='grey', alpha=0.2, boxstyle='round'), size=20)\n",
    "plt.savefig(\"intensity_7day_50bins.pdf\", bbox_inches='tight')"
   ]
  }
 ],
 "metadata": {
  "kernelspec": {
   "display_name": "Python 3",
   "language": "python",
   "name": "python3"
  },
  "language_info": {
   "codemirror_mode": {
    "name": "ipython",
    "version": 3
   },
   "file_extension": ".py",
   "mimetype": "text/x-python",
   "name": "python",
   "nbconvert_exporter": "python",
   "pygments_lexer": "ipython3",
   "version": "3.7.3"
  }
 },
 "nbformat": 4,
 "nbformat_minor": 4
}
